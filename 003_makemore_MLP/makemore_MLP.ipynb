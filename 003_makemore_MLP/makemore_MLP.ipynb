{
 "cells": [
  {
   "cell_type": "markdown",
   "id": "e556cca0",
   "metadata": {},
   "source": [
    "# makemore_MLP\n",
    "\n",
    "----\n",
    "* Inspired by Andrej Karpathy's [\"Building makemore Part 2: MLP\"](https://www.youtube.com/watch?v=TCH_1BHY58I)\n",
    "\n",
    "* Useful links \n",
    "    - [PyTorch internals reference](http://blog.ezyang.com/2019/05/pytorch-internals/)\n",
    "    ```\n",
    "    \"...The talk is in two parts: in the first part, I'm going to first introduce you to the conceptual universe of a tensor library ... The second part grapples with the actual nitty gritty details involved with actually coding in PyTorch...\" - Edward Z. Yang\n",
    "    ```\n"
   ]
  },
  {
   "cell_type": "markdown",
   "id": "efa0b203",
   "metadata": {},
   "source": [
    "# Table of Contents\n",
    "------------------\n",
    "- [0. Makemore: Introduction](#0)\n",
    "    - [0.1. \"A Neural Probabilistic Language Model\" - Bengio et al. 2003, Paper Walkthrough](#001)\n",
    "- [1. Re-building our Training Dataset](#1)\n",
    "- [2. Multilayer Perceptron (MLP)](#2)\n",
    "    - [2.1. Embedding Lookup Table](#201)\n",
    "    - [2.2. Hidden Layer + `torch.Tensor` Internals (storage, views)](#202)\n",
    "    - [2.3. Output Layer](#203)\n",
    "    - [2.4. Negative Log Likelihood Loss](#204)\n",
    "    - [2.5. Summary of the Full Network](#205)\n",
    "    - [2.6. `F.cross_entropy` & Why?](#206)\n",
    "    - [2.7. Training Loop + Overfitting One Batch](#207)\n",
    "    - [2.8. Training on the Full Dataset + Minibatches](#208)\n",
    "    - [2.9. Learning Rate](#209)\n",
    "    - [2.10. Train-Val-Test Splits & Why?](#210)\n",
    "    - [2.11. Experiment: Larger Hidden Layer](#211)\n",
    "    - [2.12. Visualize Character Embeddings](#212)\n",
    "    - [2.13. Experiment: Larger Embedding Size](#213)\n",
    "    - [2.14. Summary of Final Code](#214)\n",
    "    - [2.15. Sampling from the Model](#215)\n",
    "- [3. Conclusion](#3)\n",
    "------\n",
    "\n",
    "\n",
    "\n",
    "# Appendix\n",
    "---------------\n",
    "## Figures\n",
    "- [A1: Neural Architecture.](#a1)\n",
    "\n",
    "## Definitions/Explanations\n",
    "- [D0. The Neural Model: Bengio et. al. 2003 paper (Section 2)](#d0)\n",
    "- [D1. Curse of Dimensionality](#d1)\n",
    "- [D2. Model Parameters](#d2)\n",
    "- [D3. Hyperparameters to Optimize](#d3)\n",
    "- [D4. Tensor Manipulations](#d4)\n",
    "- [D5. Embeddings](#d5)\n",
    "\n",
    "\n",
    "## [Exercises](#e1)\n",
    "\n",
    "## [References](#r1)"
   ]
  },
  {
   "cell_type": "markdown",
   "id": "d29a33dd",
   "metadata": {},
   "source": [
    "-----------\n",
    "<br><br>\n",
    "# 0. Makemore: Introduction<a id=\"0\"></a>\n",
    "---------------------------------\n",
    "<u>**Makemore**</u> takes one text file as input, where each line is assumed to be one training thing, and generates more things like it. Under the hood, it is an **autoregressive character-level language model**, with a <u>wide choice of models from bigrams all the way to a Transformer (exactly as seen in GPT)</u>. An [autoregressive model](https://en.wikipedia.org/wiki/Autoregressive_model) specifies that the output variable depends linearly on its own previous values and on a stochastic term (an imperfectly predictable term). For example, we can feed it a database of names, and makemore will generate cool baby name ideas that all sound name-like, but are not already existing names. Or if we feed it a database of company names then we can generate new ideas for a name of a company. Or we can just feed it valid scrabble words and generate english-like babble. \n",
    "```\n",
    "\"As the name suggests, makemore makes more.\"\n",
    "```\n",
    "This is not meant to be too heavyweight of a library with a billion switches and knobs. It is one hackable file, and is mostly intended for educational purposes. [PyTorch](https://pytorch.org) is the only requirement.\n",
    "\n",
    "Current implementation follows a few key papers:\n",
    "\n",
    "- Bigram (one character predicts the next one with a lookup table of counts)\n",
    "- MLP, following [Bengio et al. 2003](https://www.jmlr.org/papers/volume3/bengio03a/bengio03a.pdf)\n",
    "- CNN, following [DeepMind WaveNet 2016](https://arxiv.org/abs/1609.03499) (in progress...)\n",
    "- RNN, following [Mikolov et al. 2010](https://www.fit.vutbr.cz/research/groups/speech/publi/2010/mikolov_interspeech2010_IS100722.pdf)\n",
    "- LSTM, following [Graves et al. 2014](https://arxiv.org/abs/1308.0850)\n",
    "- GRU, following [Kyunghyun Cho et al. 2014](https://arxiv.org/abs/1409.1259)\n",
    "- Transformer, following [Vaswani et al. 2017](https://arxiv.org/abs/1706.03762)"
   ]
  },
  {
   "cell_type": "markdown",
   "id": "72b94459",
   "metadata": {},
   "source": [
    "In the 1st makemore tutorial notebook, we worked on a bigram model that takes into account only the local context of a word. This approach is impractical as the size of the counting matrix (also represent model’s weights) grows rapidly when we increase the context, i.e. takes more characters. For example, the first dimension of the counting matrix increases from 27 to 27x27 = 729 when we switch from bigram to trigram model.\n",
    "\n",
    "As seen above expanding the context requires a larger lookup table, but with a vast vocabulary, this approach becomes impractical. This explosion in possible combinations means the model needs a huge amount of data to learn effectively from all these combinations. Yet, in reality, encountering all these combinations in training is unlikely, making accurate predictions on unseen sequences difficult. This challenge is known as the <a id='d1'></a>**curse of dimensionality**: \n",
    "```\n",
    "as the vocabulary increases, the number of possible combinations to learn increase exponentially, hindering the model’s learning and generalization capabilities.\n",
    "```\n",
    "\n",
    "In summary essentially, <u>curse of dimensionality</u> refers to the exponential growth in complexity and data requirements as the number of features (words or characters) increases, hindering the model’s ability to generalize effectively. Therefore, we want to have a model that is easy to generalize.\n",
    "\n",
    "In this notebook, we want to implement a multilayer perceptron (MLP) character-level language model. We will also introduce many basics of machine learning (e.g. model training, learning rate tuning, hyperparameters, evaluation, train/dev/test splits, under/overfitting, etc.). We will go through the **Bengio et al. 2003 paper** which offers a solution with dealing with the curse of dimensionality."
   ]
  },
  {
   "cell_type": "markdown",
   "id": "501a351a",
   "metadata": {},
   "source": [
    "---\n",
    "<a id=\"001\"></a>\n",
    "## 0.1.  \"A Neural Probabilistic Language Model\" - Bengio et al. 2003, Paper Walkthrough\n",
    "-----\n",
    "\n",
    "<u>Abstract:</u>\n",
    "A goal of statistical language modeling is to learn the joint probability function of sequences of words in a language. This is intrinsically difficult because of the **curse of dimensionality**: a word sequence on which the model will be tested is likely to be different from all the word sequences seen during training. Traditional but very successful approaches based on n-grams obtain generalization by concatenating very short overlapping sequences seen in the training set. We propose to fight the curse of dimensionality by **learning a distributed representation for words** which allows each training sentence to inform the model about an exponential number of semantically neighboring sentences. The model learns simultaneously \n",
    "1. a distributed representation for each word along with \n",
    "2. the probability function for word sequences, expressed in terms of these representations. \n",
    "\n",
    "Generalization is obtained because a sequence of words that has never been seen before gets high probability if it is made of words that are similar (in the sense of having a nearby representation) to words forming an already seen sentence. Training such large models (with millions of parameters) within a reasonable time is itself a significant challenge. We report on experiments using neural networks for the probability function, showing on two text corpora that the proposed approach significantly improves on state-of-the-art n-gram models, and that the proposed approach allows to take advantage of longer contexts. \n",
    "\n",
    "**Keywords**: Statistical language modeling, artificial neural networks, distributed representation, curse of dimensionality\n",
    "\n",
    "---"
   ]
  },
  {
   "cell_type": "markdown",
   "id": "077a227f",
   "metadata": {},
   "source": [
    "In the model proposed here, instead of characterizing the similarity with a discrete random or deterministic variable (which corresponds to a soft or hard partition of the set of words), we use a continuous real-vector for each word, i.e. **a learned distributed feature vector**, to represent similarity between words.\n",
    "\n",
    "In this paper, they used a vocabulary of 17000 words with each word mapped to a 30-dimensional embedding via a lookup table/embedding matrix. The number of neurons in the hidden layer is a hyper-parameter. All of them are fully connected to the input layer. The output layer has 17000 neurons, one for each word. On top of the 17000 logits, we have a softmax layer. Weights and biases of the output layer, weights and biases of the hidden layer, and the embedding lookup table are the parameters we can adjust.The architecture of their neural network is shown in the figure below.\n",
    "\n",
    "\n",
    "The model takes several previous characters (*context*) and tries to predict the next one. In the figure above, the context consists of three characters, but the number can be more. Since our model cannot work directly with characters, we convert characters to integers (indexes). The input layer takes the indexes of all context characters and converts them into embedding vectors using a lookup table C. The size of the embedding vector is a network parameter. The lookup table is shared across characters and has a size of *number of unique characters X embedding vector size.*\n",
    "\n",
    "The hidden layer is fully connected to the previous layer and receives one concatenated output from it. The `tanh` function is used as a non-linearity function. The output layer is also fully connected and consists of the number of neurons equal to the total number of unique characters in the dataset. It produces **logits** which are then converted to **probabilities** using the **softmax** function. The character with the <u>highest probability</u> is our prediction. The <u>network parameters are optimized using back-propagation.</u>\n",
    "\n",
    "\n",
    "\n",
    "In the model proposed here, instead of characterizing the similarity with a discrete random or deterministic variable (which corresponds to a soft or hard partition of the set of words), we use a continuous real-vector for each word, i.e. **a learned distributed feature vector**, to represent similarity between words.\n",
    "\n"
   ]
  },
  {
   "cell_type": "markdown",
   "id": "31924cb4",
   "metadata": {},
   "source": [
    "\n",
    "<a id=\"a1\"></a>\n",
    "![NN architecture](_imgs/bengio_et_al_2003_NN_MLP_architecture_.png)\n",
    "\n",
    "**Figure 1: Neural architecture: $f\\left(i, w_{t-1}, \\cdots, w_{t-n+1}\\right)=g\\left(i, C\\left(w_{t-1}\\right), \\cdots, C\\left(w_{t-n+1}\\right)\\right)$ where $g$ is the neural network and $C(i)$ is the $i$-th word feature vector.** ([Source](https://www.jmlr.org/papers/volume3/bengio03a/bengio03a.pdf))"
   ]
  },
  {
   "cell_type": "markdown",
   "id": "4a2f48ee",
   "metadata": {},
   "source": [
    "---------\n",
    "<br><br>\n",
    "# 1. Re-building our Training Dataset<a id=\"1\"></a>\n",
    "-------------------------------------------------------"
   ]
  },
  {
   "cell_type": "code",
   "execution_count": 1,
   "id": "4bc451ee",
   "metadata": {},
   "outputs": [],
   "source": [
    "import torch\n",
    "import torch.nn.functional as F\n",
    "import random\n",
    "\n",
    "import matplotlib.pyplot as plt\n",
    "%matplotlib inline"
   ]
  },
  {
   "cell_type": "code",
   "execution_count": 2,
   "id": "0065a63a",
   "metadata": {
    "scrolled": false
   },
   "outputs": [
    {
     "data": {
      "text/plain": [
       "['emma', 'olivia', 'ava', 'isabella', 'sophia', 'charlotte', 'mia', 'amelia']"
      ]
     },
     "execution_count": 2,
     "metadata": {},
     "output_type": "execute_result"
    }
   ],
   "source": [
    "# read all the names into a list of words\n",
    "words = open('../data/names.txt', 'r').read().splitlines()\n",
    "words[:8]"
   ]
  },
  {
   "cell_type": "code",
   "execution_count": 3,
   "id": "e82d3f70",
   "metadata": {},
   "outputs": [
    {
     "data": {
      "text/plain": [
       "32033"
      ]
     },
     "execution_count": 3,
     "metadata": {},
     "output_type": "execute_result"
    }
   ],
   "source": [
    "len(words)"
   ]
  },
  {
   "cell_type": "code",
   "execution_count": 4,
   "id": "3e06abf3",
   "metadata": {},
   "outputs": [
    {
     "name": "stdout",
     "output_type": "stream",
     "text": [
      "{1: 'a', 2: 'b', 3: 'c', 4: 'd', 5: 'e', 6: 'f', 7: 'g', 8: 'h', 9: 'i', 10: 'j', 11: 'k', 12: 'l', 13: 'm', 14: 'n', 15: 'o', 16: 'p', 17: 'q', 18: 'r', 19: 's', 20: 't', 21: 'u', 22: 'v', 23: 'w', 24: 'x', 25: 'y', 26: 'z', 0: '.'}\n"
     ]
    }
   ],
   "source": [
    "# build the vocabulary of characters and mappings to/from integers\n",
    "chars = sorted(list(set(''.join(words))))\n",
    "stoi = {s:i+1 for i,s in enumerate(chars)}\n",
    "stoi['.'] = 0\n",
    "itos = {i:s for s,i in stoi.items()}\n",
    "print(itos)"
   ]
  },
  {
   "cell_type": "code",
   "execution_count": 5,
   "id": "34961497",
   "metadata": {},
   "outputs": [
    {
     "name": "stdout",
     "output_type": "stream",
     "text": [
      "emma\n",
      "... ---> e\n",
      "..e ---> m\n",
      ".em ---> m\n",
      "emm ---> a\n",
      "mma ---> .\n",
      "olivia\n",
      "... ---> o\n",
      "..o ---> l\n",
      ".ol ---> i\n",
      "oli ---> v\n",
      "liv ---> i\n",
      "ivi ---> a\n",
      "via ---> .\n",
      "ava\n",
      "... ---> a\n",
      "..a ---> v\n",
      ".av ---> a\n",
      "ava ---> .\n",
      "isabella\n",
      "... ---> i\n",
      "..i ---> s\n",
      ".is ---> a\n",
      "isa ---> b\n",
      "sab ---> e\n",
      "abe ---> l\n",
      "bel ---> l\n",
      "ell ---> a\n",
      "lla ---> .\n",
      "sophia\n",
      "... ---> s\n",
      "..s ---> o\n",
      ".so ---> p\n",
      "sop ---> h\n",
      "oph ---> i\n",
      "phi ---> a\n",
      "hia ---> .\n"
     ]
    }
   ],
   "source": [
    "# build the dataset\n",
    "\n",
    "block_size = 3 # context length: how many characters do we take to predict the next one?\n",
    "X, Y = [], []\n",
    "for w in words[:5]:\n",
    "    \n",
    "    print(w)\n",
    "    context = [0] * block_size # start with padded context of just zero tokens\n",
    "    #print(context)\n",
    "    for char in w + '.':\n",
    "        ix = stoi[char]\n",
    "        X.append(context)\n",
    "        Y.append(ix)\n",
    "        #print(ix)\n",
    "        print(''.join(itos[i] for i in context), '--->', itos[ix])\n",
    "        context = context[1:] + [ix] # crop context and append\n",
    "        #print(context)\n",
    "        \n",
    "X = torch.tensor(X)\n",
    "Y = torch.tensor(Y)\n",
    "        "
   ]
  },
  {
   "cell_type": "code",
   "execution_count": 6,
   "id": "1420ee76",
   "metadata": {},
   "outputs": [
    {
     "data": {
      "text/plain": [
       "(torch.Size([32, 3]), torch.int64, torch.Size([32]), torch.int64)"
      ]
     },
     "execution_count": 6,
     "metadata": {},
     "output_type": "execute_result"
    }
   ],
   "source": [
    "X.shape, X.dtype, Y.shape, Y.dtype"
   ]
  },
  {
   "cell_type": "code",
   "execution_count": 7,
   "id": "69cc10fa",
   "metadata": {},
   "outputs": [
    {
     "data": {
      "text/plain": [
       "tensor([ 5, 13, 13,  1,  0, 15, 12,  9, 22,  9,  1,  0,  1, 22,  1,  0,  9, 19,\n",
       "         1,  2,  5, 12, 12,  1,  0, 19, 15, 16,  8,  9,  1,  0])"
      ]
     },
     "execution_count": 7,
     "metadata": {},
     "output_type": "execute_result"
    }
   ],
   "source": [
    "Y"
   ]
  },
  {
   "cell_type": "markdown",
   "id": "15271c24",
   "metadata": {},
   "source": [
    "---------\n",
    "<br><br>\n",
    "# 2. Multilayer Perceptron (MLP)<a id=\"2\"></a>\n",
    "-------------------------------------------------------\n",
    "\n",
    "Let's implement a neural probabilistic language model that handles some of the limitations (poor generalization, exponential growth in complexity) of the n-gram character-level language models we've implemented in previous tutorials so far. We will build a <u>multilayer perceptron (MLP)</u> model. An MLP model doesn't rely on exact sequence matches, and learns syntatic & semantic similarities between different words. This enables better model generalization to unseen data."
   ]
  },
  {
   "cell_type": "markdown",
   "id": "517a6ec6",
   "metadata": {},
   "source": [
    "------\n",
    "## 2.1. Embedding Lookup Table<a id=\"201\"></a>\n",
    "-----\n",
    "\n",
    "We need to build the neural network that takes `X` and predicts `Y`. However, first we need to build the embedding lookup table `C` which we initialize randomly in the beginning. We have **27 possible characters** which we are going to embed in a lower-dimensional space (**2-D**). In the paper, they embed **17000 words into a 30-dimensional space**.\n",
    "\n",
    "We can use one-hot vectors to extract embeddings. Therefore, we can assume that the lookup table itself is a layer of the neural network without a non-linearity. However, we will be using indexing due to its efficiency. Indexing can be done for 1-D, and multi-dimensional tensors of integers."
   ]
  },
  {
   "cell_type": "code",
   "execution_count": 8,
   "id": "65a8291f",
   "metadata": {},
   "outputs": [],
   "source": [
    "C = torch.randn((27, 2))"
   ]
  },
  {
   "cell_type": "code",
   "execution_count": 9,
   "id": "ce8de70c",
   "metadata": {},
   "outputs": [
    {
     "data": {
      "text/plain": [
       "tensor([ 0.0795, -1.1500])"
      ]
     },
     "execution_count": 9,
     "metadata": {},
     "output_type": "execute_result"
    }
   ],
   "source": [
    "C[5]"
   ]
  },
  {
   "cell_type": "code",
   "execution_count": 10,
   "id": "4764e0a5",
   "metadata": {},
   "outputs": [
    {
     "data": {
      "text/plain": [
       "tensor([ 0.0795, -1.1500])"
      ]
     },
     "execution_count": 10,
     "metadata": {},
     "output_type": "execute_result"
    }
   ],
   "source": [
    "F.one_hot(torch.tensor(5), num_classes=27).float() @ C"
   ]
  },
  {
   "cell_type": "code",
   "execution_count": 11,
   "id": "338c6c7c",
   "metadata": {},
   "outputs": [
    {
     "data": {
      "text/plain": [
       "torch.Size([32, 3, 2])"
      ]
     },
     "execution_count": 11,
     "metadata": {},
     "output_type": "execute_result"
    }
   ],
   "source": [
    "C[X].shape"
   ]
  },
  {
   "cell_type": "code",
   "execution_count": 12,
   "id": "821d27da",
   "metadata": {},
   "outputs": [
    {
     "data": {
      "text/plain": [
       "tensor(1)"
      ]
     },
     "execution_count": 12,
     "metadata": {},
     "output_type": "execute_result"
    }
   ],
   "source": [
    "X[13, 2]"
   ]
  },
  {
   "cell_type": "code",
   "execution_count": 13,
   "id": "e7513130",
   "metadata": {},
   "outputs": [
    {
     "data": {
      "text/plain": [
       "tensor([ 0.1649, -0.0402])"
      ]
     },
     "execution_count": 13,
     "metadata": {},
     "output_type": "execute_result"
    }
   ],
   "source": [
    "C[1]"
   ]
  },
  {
   "cell_type": "code",
   "execution_count": 14,
   "id": "10e7f5b2",
   "metadata": {
    "scrolled": false
   },
   "outputs": [
    {
     "data": {
      "text/plain": [
       "tensor([ 0.1649, -0.0402])"
      ]
     },
     "execution_count": 14,
     "metadata": {},
     "output_type": "execute_result"
    }
   ],
   "source": [
    "C[X][13, 2]"
   ]
  },
  {
   "cell_type": "code",
   "execution_count": 15,
   "id": "b5ed4a32",
   "metadata": {},
   "outputs": [
    {
     "data": {
      "text/plain": [
       "torch.Size([32, 3, 2])"
      ]
     },
     "execution_count": 15,
     "metadata": {},
     "output_type": "execute_result"
    }
   ],
   "source": [
    "emb = C[X]\n",
    "emb.shape"
   ]
  },
  {
   "cell_type": "markdown",
   "id": "b8f739fa",
   "metadata": {},
   "source": [
    "------\n",
    "## 2.2.  Hidden Layer + `torch.Tensor` Internals (storage, views)<a id=\"202\"></a>\n",
    "-----\n",
    "Let's construct the hidden layer shown in Figure 1 previously. For the 1st hidden layer, the **inputs would be 6** because there would be two values in the embedding table for each of the three characters (**2 X 3**). The hidden layer, with 100 neurons, processes the embedded vectors. We use a `tanh` activation function here to introduce non-linearity and the outputs lie in this range `[-1, 1]`.\n"
   ]
  },
  {
   "cell_type": "code",
   "execution_count": 16,
   "id": "d63d1ddc",
   "metadata": {},
   "outputs": [],
   "source": [
    "W1 = torch.randn((6, 100))\n",
    "b1 = torch.randn(100)"
   ]
  },
  {
   "cell_type": "code",
   "execution_count": 17,
   "id": "9dbdc8ae",
   "metadata": {},
   "outputs": [],
   "source": [
    "#emb @ W1 + b1 #RuntimeError: mat1 and mat2 shapes cannot be multiplied (96x2 and 6x100)"
   ]
  },
  {
   "cell_type": "markdown",
   "id": "0aec2ea2",
   "metadata": {},
   "source": [
    "We need to ensure that `emb` can be matrix multiplied by `W1`. So we need to transform the shape of the embeddings `emb` to ensure matrix multiplication is possible. We need to concatenate `emb` to make this possible. Torch has many ways of implementing matrix transformations due to it being a very large library."
   ]
  },
  {
   "cell_type": "code",
   "execution_count": 18,
   "id": "b3385f70",
   "metadata": {},
   "outputs": [
    {
     "data": {
      "text/plain": [
       "torch.Size([32, 6])"
      ]
     },
     "execution_count": 18,
     "metadata": {},
     "output_type": "execute_result"
    }
   ],
   "source": [
    "torch.cat([emb[:, 0, :], emb[:, 1, :], emb[:, 2, :]], 1).shape # dependent on block size"
   ]
  },
  {
   "cell_type": "code",
   "execution_count": 19,
   "id": "b669312a",
   "metadata": {},
   "outputs": [
    {
     "data": {
      "text/plain": [
       "torch.Size([32, 6])"
      ]
     },
     "execution_count": 19,
     "metadata": {},
     "output_type": "execute_result"
    }
   ],
   "source": [
    "torch.cat(torch.unbind(emb, 1), 1).shape # independent of block size"
   ]
  },
  {
   "cell_type": "code",
   "execution_count": 20,
   "id": "4c6a5774",
   "metadata": {},
   "outputs": [
    {
     "data": {
      "text/plain": [
       "tensor([[True, True, True, True, True, True],\n",
       "        [True, True, True, True, True, True],\n",
       "        [True, True, True, True, True, True],\n",
       "        [True, True, True, True, True, True],\n",
       "        [True, True, True, True, True, True],\n",
       "        [True, True, True, True, True, True],\n",
       "        [True, True, True, True, True, True],\n",
       "        [True, True, True, True, True, True],\n",
       "        [True, True, True, True, True, True],\n",
       "        [True, True, True, True, True, True],\n",
       "        [True, True, True, True, True, True],\n",
       "        [True, True, True, True, True, True],\n",
       "        [True, True, True, True, True, True],\n",
       "        [True, True, True, True, True, True],\n",
       "        [True, True, True, True, True, True],\n",
       "        [True, True, True, True, True, True],\n",
       "        [True, True, True, True, True, True],\n",
       "        [True, True, True, True, True, True],\n",
       "        [True, True, True, True, True, True],\n",
       "        [True, True, True, True, True, True],\n",
       "        [True, True, True, True, True, True],\n",
       "        [True, True, True, True, True, True],\n",
       "        [True, True, True, True, True, True],\n",
       "        [True, True, True, True, True, True],\n",
       "        [True, True, True, True, True, True],\n",
       "        [True, True, True, True, True, True],\n",
       "        [True, True, True, True, True, True],\n",
       "        [True, True, True, True, True, True],\n",
       "        [True, True, True, True, True, True],\n",
       "        [True, True, True, True, True, True],\n",
       "        [True, True, True, True, True, True],\n",
       "        [True, True, True, True, True, True]])"
      ]
     },
     "execution_count": 20,
     "metadata": {},
     "output_type": "execute_result"
    }
   ],
   "source": [
    "emb.view(emb.shape[0], 6) == torch.cat(torch.unbind(emb, 1), 1)"
   ]
  },
  {
   "cell_type": "code",
   "execution_count": 21,
   "id": "e01c0eb8",
   "metadata": {},
   "outputs": [
    {
     "data": {
      "text/plain": [
       "(torch.Size([32, 100]), torch.Size([100]))"
      ]
     },
     "execution_count": 21,
     "metadata": {},
     "output_type": "execute_result"
    }
   ],
   "source": [
    "# making sure broadcasting works as expected: element-wise addition\n",
    "# 32, 100    ---> 32, 100\n",
    "#     100    --->  1, 100\n",
    "(emb.view(-1, 6) @ W1).shape, b1.shape"
   ]
  },
  {
   "cell_type": "code",
   "execution_count": 22,
   "id": "49d44139",
   "metadata": {},
   "outputs": [
    {
     "data": {
      "text/plain": [
       "tensor([[ 0.9989, -0.5693,  0.8112,  ..., -0.7093, -0.9864,  0.6689],\n",
       "        [ 0.1384, -0.0799, -0.9994,  ...,  0.9321,  0.9163, -0.1549],\n",
       "        [ 0.6756,  0.8763,  0.0039,  ...,  0.5831,  0.9628,  0.7309],\n",
       "        ...,\n",
       "        [-0.4285,  0.9701, -0.9946,  ...,  0.9994,  1.0000,  0.2847],\n",
       "        [-0.8484, -0.4393,  0.9855,  ..., -0.9131, -0.9705,  0.9912],\n",
       "        [ 0.7571, -0.9000,  0.6245,  ..., -0.4636, -0.9902,  0.7642]])"
      ]
     },
     "execution_count": 22,
     "metadata": {},
     "output_type": "execute_result"
    }
   ],
   "source": [
    "h = torch.tanh(emb.view(-1, 6) @ W1 + b1)\n",
    "h"
   ]
  },
  {
   "cell_type": "code",
   "execution_count": 23,
   "id": "77e05be5",
   "metadata": {},
   "outputs": [
    {
     "data": {
      "text/plain": [
       "torch.Size([32, 100])"
      ]
     },
     "execution_count": 23,
     "metadata": {},
     "output_type": "execute_result"
    }
   ],
   "source": [
    "(emb.view(-1, 6) @ W1).shape"
   ]
  },
  {
   "cell_type": "code",
   "execution_count": 24,
   "id": "721c1994",
   "metadata": {},
   "outputs": [
    {
     "data": {
      "text/plain": [
       "torch.Size([32, 100])"
      ]
     },
     "execution_count": 24,
     "metadata": {},
     "output_type": "execute_result"
    }
   ],
   "source": [
    "h.shape"
   ]
  },
  {
   "cell_type": "code",
   "execution_count": 25,
   "id": "dcf3cf03",
   "metadata": {},
   "outputs": [
    {
     "data": {
      "text/plain": [
       "torch.Size([100])"
      ]
     },
     "execution_count": 25,
     "metadata": {},
     "output_type": "execute_result"
    }
   ],
   "source": [
    "b1.shape"
   ]
  },
  {
   "cell_type": "markdown",
   "id": "014efc2c",
   "metadata": {},
   "source": [
    "------\n",
    "## 2.3. Output Layer<a id=\"203\"></a>\n",
    "-----\n",
    "Let’s create the output layer. The output layer computes logits which are then converted to a probability distribution. This layer is crucial for generating the final character predictions.\n"
   ]
  },
  {
   "cell_type": "code",
   "execution_count": 26,
   "id": "fad1313f",
   "metadata": {},
   "outputs": [],
   "source": [
    "W2 = torch.randn((100, 27))\n",
    "b2 = torch.randn(27)"
   ]
  },
  {
   "cell_type": "code",
   "execution_count": 27,
   "id": "d40a4e7b",
   "metadata": {},
   "outputs": [],
   "source": [
    "logits = h @ W2 + b2"
   ]
  },
  {
   "cell_type": "markdown",
   "id": "99e98f0c",
   "metadata": {},
   "source": [
    "------\n",
    "## 2.4.  Negative Log Likelihood Loss<a id=\"204\"></a>\n",
    "-----\n",
    "\n",
    "Next, using the logits, we must calculate the probabilities and the average negative log-likelihood loss. The loss is calculated using the probability distribution, which helps in updating the network’s parameters through backpropagation\n"
   ]
  },
  {
   "cell_type": "code",
   "execution_count": 28,
   "id": "b6266283",
   "metadata": {},
   "outputs": [],
   "source": [
    "counts = logits.exp()"
   ]
  },
  {
   "cell_type": "code",
   "execution_count": 29,
   "id": "a738b50f",
   "metadata": {},
   "outputs": [],
   "source": [
    "prob = counts / counts.sum(1, keepdim=True)"
   ]
  },
  {
   "cell_type": "code",
   "execution_count": 30,
   "id": "f6b07893",
   "metadata": {},
   "outputs": [
    {
     "data": {
      "text/plain": [
       "tensor(1.)"
      ]
     },
     "execution_count": 30,
     "metadata": {},
     "output_type": "execute_result"
    }
   ],
   "source": [
    "prob[0].sum()"
   ]
  },
  {
   "cell_type": "code",
   "execution_count": 31,
   "id": "51d4dbfe",
   "metadata": {
    "scrolled": true
   },
   "outputs": [
    {
     "data": {
      "text/plain": [
       "tensor([ 5, 13, 13,  1,  0, 15, 12,  9, 22,  9,  1,  0,  1, 22,  1,  0,  9, 19,\n",
       "         1,  2,  5, 12, 12,  1,  0, 19, 15, 16,  8,  9,  1,  0])"
      ]
     },
     "execution_count": 31,
     "metadata": {},
     "output_type": "execute_result"
    }
   ],
   "source": [
    "Y"
   ]
  },
  {
   "cell_type": "code",
   "execution_count": 32,
   "id": "2057183a",
   "metadata": {
    "scrolled": true
   },
   "outputs": [
    {
     "data": {
      "text/plain": [
       "tensor([ 0,  1,  2,  3,  4,  5,  6,  7,  8,  9, 10, 11, 12, 13, 14, 15, 16, 17,\n",
       "        18, 19, 20, 21, 22, 23, 24, 25, 26, 27, 28, 29, 30, 31])"
      ]
     },
     "execution_count": 32,
     "metadata": {},
     "output_type": "execute_result"
    }
   ],
   "source": [
    "torch.arange(32)  "
   ]
  },
  {
   "cell_type": "code",
   "execution_count": 33,
   "id": "b556f7e9",
   "metadata": {
    "scrolled": false
   },
   "outputs": [
    {
     "data": {
      "text/plain": [
       "tensor([2.0816e-03, 9.8024e-05, 8.0746e-09, 3.6231e-06, 3.7387e-05, 7.2478e-09,\n",
       "        3.4388e-11, 1.2536e-08, 3.7001e-12, 5.4971e-07, 8.6313e-13, 1.9187e-05,\n",
       "        1.6919e-11, 1.5080e-05, 8.3559e-19, 7.8019e-04, 1.1049e-06, 5.4742e-03,\n",
       "        6.0078e-17, 3.2374e-04, 8.4933e-09, 3.1721e-11, 4.0807e-12, 3.5842e-07,\n",
       "        8.3485e-07, 3.9156e-01, 1.3974e-06, 3.8203e-11, 1.4490e-02, 3.9155e-07,\n",
       "        8.9099e-09, 1.6840e-04])"
      ]
     },
     "execution_count": 33,
     "metadata": {},
     "output_type": "execute_result"
    }
   ],
   "source": [
    "prob[torch.arange(32), Y]   # 32 = shape of input X"
   ]
  },
  {
   "cell_type": "code",
   "execution_count": 34,
   "id": "0458c695",
   "metadata": {},
   "outputs": [
    {
     "data": {
      "text/plain": [
       "tensor(-16.5189)"
      ]
     },
     "execution_count": 34,
     "metadata": {},
     "output_type": "execute_result"
    }
   ],
   "source": [
    "prob[torch.arange(32), Y].log().mean()"
   ]
  },
  {
   "cell_type": "markdown",
   "id": "11d4377f",
   "metadata": {},
   "source": [
    "------\n",
    "## 2.5.  Summary of the Full Network<a id=\"205\"></a>\n",
    "-----\n",
    "Let's take a look at an excerpt of the neural model in the paper before we put it all together in the model.\n",
    "\n",
    "----\n",
    "<a id=\"d0\"></a>\n",
    "### Relevant Excerpt from the Bengio et. al. 2003 paper (Section 2)\n",
    "----\n",
    "**Section 2: A Neural Model**\n",
    "\n",
    "The training set is a sequence $w_{1} \\cdots w_{T}$ of words $w_{t} \\in V$, where the vocabulary $V$ is a large but finite set. The objective is to learn a good model $f\\left(w_{t}, \\cdots, w_{t-n+1}\\right)=\\hat{P}\\left(w_{t} \\mid w_{1}^{t-1}\\right)$, in the sense that it gives high out-of-sample likelihood. Below, we report the geometric average of $1 / \\hat{P}\\left(w_{t} \\mid w_{1}^{t-1}\\right)$, also known as perplexity, which is also the exponential of the average negative log-likelihood. The only constraint on the model is that for any choice of $w_{1}^{t-1}, \\sum_{i=1}^{|V|} f\\left(i, w_{t-1}, \\cdots, w_{t-n+1}\\right)=1$, with $f>0$. By the product of these conditional probabilities, one obtains a model of the joint probability of sequences of words.\n",
    "\n",
    "We decompose the function $f\\left(w_{t}, \\cdots, w_{t-n+1}\\right)=\\hat{P}\\left(w_{t} \\mid w_{1}^{t-1}\\right)$ in two parts:\n",
    "\n",
    "1. A mapping $C$ from any element $i$ of $V$ to a real vector $C(i) \\in \\mathbb{R}^{m}$. It represents the distributed feature vectors associated with each word in the vocabulary. In practice, $C$ is represented by a $|V| \\times m$ matrix of free parameters.\n",
    "\n",
    "2. The probability function over words, expressed with $C$ : a function $g$ maps an input sequence of feature vectors for words in context, $\\left(C\\left(w_{t-n+1}\\right), \\cdots, C\\left(w_{t-1}\\right)\\right)$, to a conditional probability distribution over words in $V$ for the next word $w_{t}$. The output of $g$ is a vector whose $i$-th element estimates the probability $\\hat{P}\\left(w_{t}=i \\mid w_{1}^{t-1}\\right)$ as in Figure 1.\n",
    "\n",
    "$$\n",
    "f\\left(i, w_{t-1}, \\cdots, w_{t-n+1}\\right)=g\\left(i, C\\left(w_{t-1}\\right), \\cdots, C\\left(w_{t-n+1}\\right)\\right)\n",
    "$$\n",
    "\n",
    "The function $f$ is a composition of these two mappings ( $C$ and $g$ ), with $C$ being shared across all the words in the context. With each of these two parts are associated some parameters. The parameters of the mapping $C$ are simply the feature vectors themselves, represented by a $|V| \\times m$ matrix $C$ whose row $i$ is the feature vector $C(i)$ for word $i$. The function $g$ may be implemented by a feed-forward or recurrent neural network or another parametrized function, with parameters $\\omega$. The overall parameter set is $\\theta=(C, \\omega)$.\n",
    "\n",
    "Training is achieved by looking for $\\theta$ that maximizes the training corpus penalized log-likelihood:\n",
    "\n",
    "$$\n",
    "L=\\frac{1}{T} \\sum_{t} \\log f\\left(w_{t}, w_{t-1}, \\cdots, w_{t-n+1} ; \\theta\\right)+R(\\theta)\n",
    "$$\n",
    "\n",
    "where $R(\\theta)$ is a regularization term. For example, in our experiments, **$R$ is a weight decay penalty applied only to the weights of the neural network and to the $C$ matrix, not to the biases**. ${ }^{3}$\n",
    "\n",
    "In the above model, the number of free parameters **only scales linearly** with $V$, the number of words in the vocabulary. It also **only scales linearly** with the order $n$ : the scaling factor could be reduced to sub-linear if more sharing structure were introduced, e.g. using a time-delay neural network or a recurrent neural network (or a combination of both).\n",
    "\n",
    "In most experiments below, the neural network has one hidden layer beyond the word features mapping, and optionally, direct connections from the word features to the output. Therefore there are really two hidden layers: the shared word features layer $C$, which has no non-linearity (it would not add anything useful), and the ordinary hyperbolic tangent hidden layer. More precisely, the neural network computes the following function, with a softmax output layer, which guarantees positive probabilities summing to 1 :\n",
    "\n",
    "$$\n",
    "\\hat{P}\\left(w_{t} \\mid w_{t-1}, \\cdots w_{t-n+1}\\right)=\\frac{e^{y_{w_{t}}}}{\\sum_{i} e^{y_{i}}}\n",
    "$$\n",
    "\n",
    "\n",
    "The $y_{i}$ are the unnormalized log-probabilities for each output word $i$, computed as follows, with parameters $b, W, U, d$ and $H$ :\n",
    "\n",
    "$$\n",
    "\\begin{equation*}\n",
    "y=b+W x+U \\tanh (d+H x) \\tag{1}\n",
    "\\end{equation*}\n",
    "$$\n",
    "\n",
    "where the hyperbolic tangent tanh is applied element by element, $W$ is optionally zero (no direct connections), and $x$ is the word features layer activation vector, which is the concatenation of the input word features from the matrix $\\mathrm{C}$ :\n",
    "\n",
    "$$\n",
    "x=\\left(C\\left(w_{t-1}\\right), C\\left(w_{t-2}\\right), \\cdots, C\\left(w_{t-n+1}\\right)\\right)\n",
    "$$\n",
    "\n",
    "Let \n",
    "* $h$ be the number of hidden units, and \n",
    "* $m$ the number of features associated with each word. \n",
    "\n",
    "When no direct connections from word features to outputs are desired, the matrix $W$ is set to 0 . The free parameters of the model are \n",
    "* the output biases $b$ (with $|V|$ elements), \n",
    "* the hidden layer biases $d$ (with $h$ elements), \n",
    "* the hidden-to-output weights $U$ (a $|V| \\times h$ matrix), \n",
    "* the word features to output weights $W$ (a $|V| \\times(n-1) m$ matrix), \n",
    "* the hidden layer weights $H$ (a $h \\times(n-1) m$ matrix), and \n",
    "* the word features $C$ (a $|V| \\times m$ matrix)\n",
    "\n",
    "$$\n",
    "\\theta=(b, d, W, U, H, C)\n",
    "$$\n",
    "\n",
    "The number of free parameters is $|V|(1+n m+h)+h(1+(n-1) m)$. The dominating factor is $|V|(n m+h)$. Note that in theory, if there is a weight decay on the weights $W$ and $H$ but not on $C$, then $W$ and $H$ could converge towards zero while $C$ would blow up. In practice we did not observe such behavior when training with stochastic gradient ascent.\n",
    "\n",
    "Stochastic gradient ascent on the neural network consists in performing the following iterative update after presenting the $t$-th word of the training corpus:\n",
    "\n",
    "$$\n",
    "\\theta \\leftarrow \\theta+\\varepsilon \\frac{\\partial \\log \\hat{P}\\left(w_{t} \\mid w_{t-1}, \\cdots w_{t-n+1}\\right)}{\\partial \\theta}\n",
    "$$\n",
    "\n",
    "where $\\varepsilon$ is the \"learning rate\". Note that a large fraction of the parameters needs not be updated or visited after each example: the word features $C(j)$ of all words $j$ that do not occur in the input window.\n",
    "\n",
    "---\n",
    "**${ }^{3}$ The $biases$ are the additive parameters of the neural network, such as $b$ and $d$ in equation 1 below.**"
   ]
  },
  {
   "cell_type": "markdown",
   "id": "17ef8fa4",
   "metadata": {},
   "source": [
    "----\n",
    "<a id=\"d2\"></a>\n",
    "Now, with knowledge from the excerpt above of the model parameters, their meanings and shapes; let's combine the previous steps to get a picture of the whole MLP neural network. The general parameters from the paper are:\n",
    "* `V` = vocabulary size (total number of characters)\n",
    "* `n` = the number of characters fed in as input as **context** into the model: block_size\n",
    "* `m` = number of features associated with each character/ lower-dimensional space\n",
    "* `C` = embedding lookup table matrix \n",
    "    - `|V| * m` = size of `C`\n",
    "    - `C[i]` = feature vector for **word i**\n",
    "* Weights\n",
    "    - <u>`H`, hidden layer weight matrix,</u> (size: `h * (nm)`) --> `W1` \n",
    "    - <u>`U`, hidden-to-output weight matrix,</u> (size: `|V| * h`) --> `W2`\n",
    "    - <u>`W`, word features to output weight matrix,</u> (size: `|V| * (nm)`) --> `W3`\n",
    "* `b` = output bias matrix -->  (size: `|V|`) --> `b2`\n",
    "* `d` = hidden layer bias matrix -->  (size: `h`) --> `b1`\n",
    "* The number of free parameters: `|V|(1+(n+1)m+h) + h(1+nm)`\n",
    "* The number of free parameters excluding the use of `W3`: `|V|(1+m+h) + h(1+nm)`\n",
    "\n",
    "\n",
    "$$\n",
    "\\begin{equation*}\n",
    "y=b+W x+U \\tanh (d+H x) \\tag{1}\n",
    "\\end{equation*}\n",
    "$$\n",
    "<br>\n",
    "$$\n",
    "parameters: \\theta=(b, d, W, U, H, C)\n",
    "$$\n",
    "\n",
    "In our case, these are our parameters sizes:\n",
    "* `n`: 3 (block_size)\n",
    "* `m`: 2 lower-dimensional space (arbitrary choice)\n",
    "* `V`: 27 characters (26 alphabets + `.` character)\n",
    "* `C`: 27 $\\times$ 2 (vocabulary size $\\times$ m)\n",
    "* <u>input layer</u>: 6 nodes - 3 $\\times$ 2 (number of input characters $\\times$ m)\n",
    "* `W1`: 6 $\\times$ 100 (input features $\\times$ number of neurons in next (hidden) layer) \n",
    "* `b1`: 100 hidden layer elements\n",
    "* <u>hidden layer</u>: 100 (100 neurons is a hyperparameter we chose to start with)\n",
    "* `W2`: 100 $\\times$ 27 (number of neurons in previous (hidden) layer $\\times$ number of neurons in next (output) layer) \n",
    "* `b2`: 27 output layer elements\n",
    "* <u>output layer</u>: 27 neurons\n",
    "* <u>The number of free parameters (excluding \n",
    "    `W3`)</u>: `(27 * 2) + (6 * 100) + (100 * 27) + 100 + 27`\n",
    "    - Using the general parameters' equation above (excluding the use of `W3`): `27*(1 + (1)*2 + 100) + 100*(1 + 3*2)`\n",
    "    - Both ways should give the same answer of `3481`\n",
    "    \n",
    "$$\n",
    "\\begin{equation*}\n",
    "y=b_{2}+W_{2} \\tanh (b_{1}+W_{1} x) \\tag{2}\n",
    "\\end{equation*}\n",
    "$$\n",
    "<br>\n",
    "$$\n",
    "parameters: \\theta=(b_{1}, b_{2}, W_{1}, W_{2}, C)\n",
    "$$\n",
    "\n",
    "---"
   ]
  },
  {
   "cell_type": "code",
   "execution_count": 35,
   "id": "58519ace",
   "metadata": {},
   "outputs": [
    {
     "data": {
      "text/plain": [
       "(3481, 3481)"
      ]
     },
     "execution_count": 35,
     "metadata": {},
     "output_type": "execute_result"
    }
   ],
   "source": [
    "27*(1 + (1)*2 + 100) + 100*(1 + 3*2), (27 * 2) + (6 * 100) + (100 * 27) + 100 + 27"
   ]
  },
  {
   "cell_type": "code",
   "execution_count": 36,
   "id": "2a533b00",
   "metadata": {},
   "outputs": [
    {
     "data": {
      "text/plain": [
       "(torch.Size([32, 3]), torch.Size([32]))"
      ]
     },
     "execution_count": 36,
     "metadata": {},
     "output_type": "execute_result"
    }
   ],
   "source": [
    "X.shape, Y.shape                                  # dataset"
   ]
  },
  {
   "cell_type": "code",
   "execution_count": 37,
   "id": "1c0125c2",
   "metadata": {},
   "outputs": [],
   "source": [
    "# ------------------- MLP Implementation ---------------------------------\n",
    "g = torch.Generator().manual_seed(2147483647)     # for reproducibility\n",
    "C = torch.randn((27, 2), generator=g)\n",
    "W1 = torch.randn((6, 100), generator=g)\n",
    "b1 = torch.randn(100, generator=g)\n",
    "W2 = torch.randn((100, 27), generator=g)\n",
    "b2 = torch.randn(27, generator=g)\n",
    "parameters = [C, W1, b1, W2, b2]"
   ]
  },
  {
   "cell_type": "code",
   "execution_count": 38,
   "id": "408a80d2",
   "metadata": {},
   "outputs": [
    {
     "name": "stdout",
     "output_type": "stream",
     "text": [
      "3481\n"
     ]
    }
   ],
   "source": [
    "par_count = 0\n",
    "for par in parameters:\n",
    "    if len(par.shape) == 2:                        # [C, W1, W2]\n",
    "        par_count += par.shape[0]*par.shape[1]\n",
    "    else:                                          # [b1, b2]\n",
    "        par_count += par.shape[0]\n",
    "print(par_count)"
   ]
  },
  {
   "cell_type": "code",
   "execution_count": 39,
   "id": "c40a8e25",
   "metadata": {},
   "outputs": [
    {
     "data": {
      "text/plain": [
       "3481"
      ]
     },
     "execution_count": 39,
     "metadata": {},
     "output_type": "execute_result"
    }
   ],
   "source": [
    "27*2 + 6*100 + 100 + 100*27 + 27"
   ]
  },
  {
   "cell_type": "code",
   "execution_count": 40,
   "id": "7c759127",
   "metadata": {},
   "outputs": [
    {
     "data": {
      "text/plain": [
       "3481"
      ]
     },
     "execution_count": 40,
     "metadata": {},
     "output_type": "execute_result"
    }
   ],
   "source": [
    "sum(p.nelement() for p in parameters)             # number of parameters in total"
   ]
  },
  {
   "cell_type": "code",
   "execution_count": 41,
   "id": "896b0b31",
   "metadata": {},
   "outputs": [
    {
     "data": {
      "text/plain": [
       "tensor(17.7697)"
      ]
     },
     "execution_count": 41,
     "metadata": {},
     "output_type": "execute_result"
    }
   ],
   "source": [
    "emb = C[X] # (32, 3, 2)\n",
    "h = torch.tanh(emb.view(-1,6) @ W1 + b1) # (32,100)\n",
    "logits = h @ W2 + b2 # (32, 27)\n",
    "counts = logits.exp()\n",
    "probs = counts/counts.sum(1, keepdim=True) # (32, 27)\n",
    "loss = -probs[torch.arange(32), Y].log().mean()\n",
    "loss"
   ]
  },
  {
   "cell_type": "markdown",
   "id": "99e23b0c",
   "metadata": {},
   "source": [
    "------\n",
    "## 2.6.  `F.cross_entropy` & Why?<a id=\"206\"></a>\n",
    "-----\n",
    "<a id=\"d1\"></a>\n"
   ]
  },
  {
   "cell_type": "markdown",
   "id": "e2a9a8bf",
   "metadata": {},
   "source": [
    "We can calculate the classification error efficiently using the `F.cross_entropy()` function. In real-world applications, we prefer this approach. In our approach to calculating the loss, we made a few intermediate tensors which is fairly inefficient. However, `F.cross_entropy()` uses in-built fused kernels to calculate the loss directly. Moreover, backpropagation is also efficient (simpler backward pass to implement) since we use clustered mathematical operations.\n",
    "\n",
    "`F.cross_entropy()` is significantly more numerically stable compared to the approach in the previous section. It does not produce errors when extremely positive inputs are given unlike `exp()`. In general, **cross-entropy loss** is a metric used in machine learning to measure the performance of a classification model."
   ]
  },
  {
   "cell_type": "code",
   "execution_count": 42,
   "id": "f4e46bc5",
   "metadata": {},
   "outputs": [
    {
     "data": {
      "text/plain": [
       "tensor(17.7697)"
      ]
     },
     "execution_count": 42,
     "metadata": {},
     "output_type": "execute_result"
    }
   ],
   "source": [
    "F.cross_entropy(logits, Y)"
   ]
  },
  {
   "cell_type": "markdown",
   "id": "1a47511c",
   "metadata": {},
   "source": [
    "------\n",
    "## 2.7.  Training Loop + Overfitting One Batch<a id=\"207\"></a>\n",
    "-----\n",
    "\n",
    "Now let's implement the training loop of forward pass, backward pass and parameter updates\n"
   ]
  },
  {
   "cell_type": "code",
   "execution_count": 43,
   "id": "8d37bcf0",
   "metadata": {},
   "outputs": [],
   "source": [
    "# ------------------- MLP Implementation ---------------------------------\n",
    "g = torch.Generator().manual_seed(2147483647)     # for reproducibility\n",
    "C = torch.randn((27, 2), generator=g)\n",
    "W1 = torch.randn((6, 100), generator=g)\n",
    "b1 = torch.randn(100, generator=g)\n",
    "W2 = torch.randn((100, 27), generator=g)\n",
    "b2 = torch.randn(27, generator=g)\n",
    "parameters = [C, W1, b1, W2, b2]"
   ]
  },
  {
   "cell_type": "code",
   "execution_count": 44,
   "id": "39a91fe7",
   "metadata": {},
   "outputs": [
    {
     "name": "stdout",
     "output_type": "stream",
     "text": [
      "0.2561391294002533\n"
     ]
    }
   ],
   "source": [
    "for p in parameters:\n",
    "    p.requires_grad = True\n",
    "\n",
    "for _ in range(1000):\n",
    "    # forward pass\n",
    "    emb = C[X]                               # (32, 3, 2)\n",
    "    h = torch.tanh(emb.view(-1,6) @ W1 + b1) # (32,100)\n",
    "    logits = h @ W2 + b2                     # (32, 27)\n",
    "    loss = F.cross_entropy(logits, Y)\n",
    "    \n",
    "    # backward pass\n",
    "    for p in parameters:\n",
    "        p.grad = None\n",
    "    loss.backward()\n",
    "\n",
    "    # update parameters\n",
    "    for p in parameters:\n",
    "        p.data += -0.1 * p.grad\n",
    "\n",
    "print(loss.item())"
   ]
  },
  {
   "cell_type": "code",
   "execution_count": 45,
   "id": "4afc5636",
   "metadata": {},
   "outputs": [
    {
     "data": {
      "text/plain": [
       "torch.return_types.max(\n",
       "values=tensor([13.3348, 17.7904, 20.6014, 20.6121, 16.7355, 13.3348, 15.9983, 14.1722,\n",
       "        15.9145, 18.3614, 15.9395, 20.9265, 13.3348, 17.1090, 17.1319, 20.0602,\n",
       "        13.3348, 16.5893, 15.1017, 17.0581, 18.5860, 15.9670, 10.8740, 10.6871,\n",
       "        15.5056, 13.3348, 16.1795, 16.9743, 12.7426, 16.2009, 19.0845, 16.0196],\n",
       "       grad_fn=<MaxBackward0>),\n",
       "indices=tensor([19, 13, 13,  1,  0, 19, 12,  9, 22,  9,  1,  0, 19, 22,  1,  0, 19, 19,\n",
       "         1,  2,  5, 12, 12,  1,  0, 19, 15, 16,  8,  9,  1,  0]))"
      ]
     },
     "execution_count": 45,
     "metadata": {},
     "output_type": "execute_result"
    }
   ],
   "source": [
    "logits.max(1)"
   ]
  },
  {
   "cell_type": "code",
   "execution_count": 46,
   "id": "71892b86",
   "metadata": {},
   "outputs": [
    {
     "data": {
      "text/plain": [
       "tensor([ 5, 13, 13,  1,  0, 15, 12,  9, 22,  9,  1,  0,  1, 22,  1,  0,  9, 19,\n",
       "         1,  2,  5, 12, 12,  1,  0, 19, 15, 16,  8,  9,  1,  0])"
      ]
     },
     "execution_count": 46,
     "metadata": {},
     "output_type": "execute_result"
    }
   ],
   "source": [
    "Y"
   ]
  },
  {
   "cell_type": "markdown",
   "id": "95b18c5e",
   "metadata": {},
   "source": [
    "---\n",
    "Right now, we're only **overfitting** $32$ examples of the $1$st $5$ words. Therefore, it's very easy to make this neural network fit only these $32$ examples because we have over $3400$ parameters. So we're overfitting a single batch of the data and getting a very small loss and subsequently good predictions. Basically, we have so many parameters for very few examples, which makes it very easy to train and fit the model.\n",
    "\n",
    "---"
   ]
  },
  {
   "cell_type": "markdown",
   "id": "008e33bc",
   "metadata": {},
   "source": [
    "------\n",
    "## 2.8.  Training on the Full Dataset + Minibatches<a id=\"208\"></a>\n",
    "-----\n",
    "We have a large number of examples (over $220,000$), and we need to calculate parameter gradients for all of them. Each iteration takes more time compared to working with a smaller dataset. Processing over $220,000$ examples through forward and backward passes is excessively laborious.\n",
    "\n",
    "Hence, we will execute forward and backward passes and perform updates on <u>many smaller batches of data.</u> We will randomly select a portion of the dataset (our **mini-batch**), and perform forward pass, backward pass and parameter updates exclusively on that batch, and then iterate over the many batches in the dataset."
   ]
  },
  {
   "cell_type": "code",
   "execution_count": 47,
   "id": "e43f0e05",
   "metadata": {},
   "outputs": [],
   "source": [
    "# build the dataset\n",
    "\n",
    "block_size = 3 # context length: how many characters do we take to predict the next one?\n",
    "X, Y = [], []\n",
    "for w in words:\n",
    "    context = [0] * block_size # start with padded context of just zero tokens\n",
    "    for char in w + '.':\n",
    "        ix = stoi[char]\n",
    "        X.append(context)\n",
    "        Y.append(ix)\n",
    "        context = context[1:] + [ix] # crop context and append\n",
    "        \n",
    "X = torch.tensor(X)\n",
    "Y = torch.tensor(Y)"
   ]
  },
  {
   "cell_type": "code",
   "execution_count": 48,
   "id": "0f557f2e",
   "metadata": {
    "scrolled": true
   },
   "outputs": [
    {
     "data": {
      "text/plain": [
       "(torch.Size([228146, 3]), torch.Size([228146]))"
      ]
     },
     "execution_count": 48,
     "metadata": {},
     "output_type": "execute_result"
    }
   ],
   "source": [
    "X.shape, Y.shape                                  # dataset"
   ]
  },
  {
   "cell_type": "code",
   "execution_count": 49,
   "id": "60a140f0",
   "metadata": {},
   "outputs": [
    {
     "data": {
      "text/plain": [
       "tensor([167880,  65556, 167199, 114265,  44013, 109392,  87178,  19177,  51653,\n",
       "         70472, 214704,  13043,  98079, 137395, 176582, 224226, 168103,  10475,\n",
       "         23089,  36106,  18860,  97111,  84437,  92120, 159954, 190704, 139401,\n",
       "        156509,  20076, 226111,   1477, 211735])"
      ]
     },
     "execution_count": 49,
     "metadata": {},
     "output_type": "execute_result"
    }
   ],
   "source": [
    "torch.randint(0, X.shape[0], (32, ))"
   ]
  },
  {
   "cell_type": "code",
   "execution_count": 50,
   "id": "3429629b",
   "metadata": {},
   "outputs": [],
   "source": [
    "g = torch.Generator().manual_seed(2147483647)     # for reproducibility\n",
    "C = torch.randn((27, 2), generator=g)\n",
    "W1 = torch.randn((6, 100), generator=g)\n",
    "b1 = torch.randn(100, generator=g)\n",
    "W2 = torch.randn((100, 27), generator=g)\n",
    "b2 = torch.randn(27, generator=g)\n",
    "parameters = [C, W1, b1, W2, b2]"
   ]
  },
  {
   "cell_type": "code",
   "execution_count": 51,
   "id": "94b05311",
   "metadata": {},
   "outputs": [
    {
     "data": {
      "text/plain": [
       "3481"
      ]
     },
     "execution_count": 51,
     "metadata": {},
     "output_type": "execute_result"
    }
   ],
   "source": [
    "sum(p.nelement() for p in parameters)             # number of parameters in total"
   ]
  },
  {
   "cell_type": "code",
   "execution_count": 52,
   "id": "7c0caa7f",
   "metadata": {},
   "outputs": [],
   "source": [
    "for p in parameters:\n",
    "    p.requires_grad = True"
   ]
  },
  {
   "cell_type": "code",
   "execution_count": 53,
   "id": "4ac6c4c2",
   "metadata": {},
   "outputs": [
    {
     "name": "stdout",
     "output_type": "stream",
     "text": [
      "2.552823066711426\n"
     ]
    }
   ],
   "source": [
    "for _ in range(10000):\n",
    "    \n",
    "    # minibatch construct\n",
    "    ix = torch.randint(0, X.shape[0], (32, ))\n",
    "    \n",
    "    # forward pass\n",
    "    emb = C[X[ix]]                               # (32, 3, 2)\n",
    "    h = torch.tanh(emb.view(-1,6) @ W1 + b1)     # (32,100)\n",
    "    logits = h @ W2 + b2                         # (32, 27)\n",
    "    loss = F.cross_entropy(logits, Y[ix])\n",
    "    \n",
    "    # backward pass\n",
    "    for p in parameters:\n",
    "        p.grad = None\n",
    "    loss.backward()\n",
    "\n",
    "    # update parameters\n",
    "    lr = 0.01\n",
    "    for p in parameters:\n",
    "        p.data += -lr * p.grad\n",
    "\n",
    "print(loss.item())"
   ]
  },
  {
   "cell_type": "code",
   "execution_count": 54,
   "id": "9ac7c51a",
   "metadata": {},
   "outputs": [
    {
     "data": {
      "text/plain": [
       "tensor(2.5695, grad_fn=<NllLossBackward0>)"
      ]
     },
     "execution_count": 54,
     "metadata": {},
     "output_type": "execute_result"
    }
   ],
   "source": [
    "emb = C[X]                                   # (32, 3, 2)\n",
    "h = torch.tanh(emb.view(-1,6) @ W1 + b1)     # (32,100)\n",
    "logits = h @ W2 + b2                         # (32, 27)\n",
    "loss = F.cross_entropy(logits, Y)\n",
    "loss"
   ]
  },
  {
   "cell_type": "markdown",
   "id": "e1880bb1",
   "metadata": {},
   "source": [
    "---\n",
    "Since we're only dealing with mini-batches, the quality of our gradient is lower so the direction is not as reliable because it's not the actual gradient direction. However, the mini-batch gradient direction is good enough even when it's estimating on only a subset of the dataset (i.e. in our case, $32$ examples). In fact, <u>approximating the gradient and taking more steps is often better than calculating the exact gradient and taking fewer steps</u>. This is why in practice, minibatches work quite well.\n",
    "\n",
    "---"
   ]
  },
  {
   "cell_type": "markdown",
   "id": "c37d0e8c",
   "metadata": {},
   "source": [
    "------\n",
    "## 2.9.  Learning Rate<a id=\"209\"></a>\n",
    "-----\n",
    "How do we determine the learning rate? How do we gain confidence that we're stepping with the right speed? Are we stepping too slow or too fast during gradient descent?\n",
    "\n",
    "A very low learning rate will impede the pace of learning for the model (the loss barely decreases) and a very high learning rate will make the model unstable (the loss explodes)."
   ]
  },
  {
   "cell_type": "code",
   "execution_count": 55,
   "id": "c3d55000",
   "metadata": {},
   "outputs": [],
   "source": [
    "g = torch.Generator().manual_seed(2147483647)     # for reproducibility\n",
    "C = torch.randn((27, 2), generator=g)\n",
    "W1 = torch.randn((6, 100), generator=g)\n",
    "b1 = torch.randn(100, generator=g)\n",
    "W2 = torch.randn((100, 27), generator=g)\n",
    "b2 = torch.randn(27, generator=g)\n",
    "parameters = [C, W1, b1, W2, b2]"
   ]
  },
  {
   "cell_type": "code",
   "execution_count": 56,
   "id": "6c1806d0",
   "metadata": {},
   "outputs": [
    {
     "data": {
      "text/plain": [
       "3481"
      ]
     },
     "execution_count": 56,
     "metadata": {},
     "output_type": "execute_result"
    }
   ],
   "source": [
    "sum(p.nelement() for p in parameters)             # number of parameters in total"
   ]
  },
  {
   "cell_type": "code",
   "execution_count": 57,
   "id": "2469f649",
   "metadata": {},
   "outputs": [],
   "source": [
    "for p in parameters:\n",
    "    p.requires_grad = True"
   ]
  },
  {
   "cell_type": "code",
   "execution_count": 58,
   "id": "815515f0",
   "metadata": {},
   "outputs": [],
   "source": [
    "lre = torch.linspace(-3, 0, 1000)\n",
    "lrs = 10**lre"
   ]
  },
  {
   "cell_type": "code",
   "execution_count": 59,
   "id": "8d846c0b",
   "metadata": {},
   "outputs": [
    {
     "name": "stdout",
     "output_type": "stream",
     "text": [
      "5.655977725982666\n"
     ]
    }
   ],
   "source": [
    "lri = []\n",
    "lrei = []\n",
    "lossi = []\n",
    "for i in range(1000):\n",
    "    \n",
    "    # minibatch construct\n",
    "    ix = torch.randint(0, X.shape[0], (32, ))\n",
    "    \n",
    "    # forward pass\n",
    "    emb = C[X[ix]]                               # (32, 3, 2)\n",
    "    h = torch.tanh(emb.view(-1,6) @ W1 + b1)     # (32,100)\n",
    "    logits = h @ W2 + b2                         # (32, 27)\n",
    "    loss = F.cross_entropy(logits, Y[ix])\n",
    "    #print(loss.item())\n",
    "    \n",
    "    # backward pass\n",
    "    for p in parameters:\n",
    "        p.grad = None\n",
    "    loss.backward()\n",
    "\n",
    "    # update parameters\n",
    "    lr = lrs[i]\n",
    "    for p in parameters:\n",
    "        p.data += -lr * p.grad\n",
    "        \n",
    "    # track stats\n",
    "    lri.append(lr)\n",
    "    lrei.append(lre[i])\n",
    "    lossi.append(loss.item())\n",
    "\n",
    "print(loss.item())"
   ]
  },
  {
   "cell_type": "code",
   "execution_count": 60,
   "id": "37cdbc98",
   "metadata": {},
   "outputs": [
    {
     "data": {
      "text/plain": [
       "Text(0, 0.5, 'Loss')"
      ]
     },
     "execution_count": 60,
     "metadata": {},
     "output_type": "execute_result"
    },
    {
     "data": {
      "image/png": "[encoded data removed]",
      "text/plain": [
       "<Figure size 432x288 with 1 Axes>"
      ]
     },
     "metadata": {
      "needs_background": "light"
     },
     "output_type": "display_data"
    }
   ],
   "source": [
    "plt.plot(lri, lossi)  #\n",
    "plt.title('Training Loss')\n",
    "plt.xlabel('learning rate')\n",
    "plt.ylabel('Loss')"
   ]
  },
  {
   "cell_type": "code",
   "execution_count": 61,
   "id": "fc489bfd",
   "metadata": {
    "scrolled": true
   },
   "outputs": [
    {
     "data": {
      "text/plain": [
       "Text(0, 0.5, 'Loss')"
      ]
     },
     "execution_count": 61,
     "metadata": {},
     "output_type": "execute_result"
    },
    {
     "data": {
      "image/png": "[encoded data removed]",
      "text/plain": [
       "<Figure size 432x288 with 1 Axes>"
      ]
     },
     "metadata": {
      "needs_background": "light"
     },
     "output_type": "display_data"
    }
   ],
   "source": [
    "plt.plot(lrei, lossi) \n",
    "plt.title('Training Loss')\n",
    "plt.xlabel('exponent of learning rate, 10^lre')\n",
    "plt.ylabel('Loss')"
   ]
  },
  {
   "cell_type": "markdown",
   "id": "a55f1631",
   "metadata": {},
   "source": [
    "---\n",
    "We evenly sampled points x in some interval (say $-3$ to $0$, use `torch.linspace`) and converted them to `10**x` to create a range of learning rates. Next, we ran a training loop for these various learning rates from our sampling and plotted the loss function as a function of the learning rate. Furthermore, we plotted the loss as a function of the learning rate exponent (`log10`). Typically from the $2nd$ plot, we see a **decreasing loss function at very low learning rates, then it plateaus and finally becomes unstable (explodes/increases significantly) at high learning rates**. <u>That plateau region is our sweet spot window.</u>\n",
    "\n",
    "We chose the optimal learning rate `lr = 0.1` and ran $3$ training loops. Then for the remaining training loops, we reduced the learning rate by a **factor of 10 (`lr = 0.01`)** as we were confident that the loss was now in the minimal territory range. This phenomenon is called **learning rate decay**.\n",
    "\n",
    "---"
   ]
  },
  {
   "cell_type": "markdown",
   "id": "fcf6cfcf",
   "metadata": {},
   "source": [
    "------\n",
    "## 2.10. Train-Val-Test Splits & Why?<a id=\"210\"></a>\n",
    "-----\n",
    "Smaller loss does not always mean a better model. Sometimes, when the model is too big, with many neurons and/or parameters, <u>the  model capacity grows and therefore the model becomes more likely/capable to **overfit** our training dataset</u>. Essentially, these bigger models will try to memorize the training set. The model will generate exact replicas of the training set when we try to sample from it. There will be no new data during sampling. In addition, loss evaluation on unseen data will be very high which implies that our model has little to no predictive power.\n",
    "\n",
    "Hence, this is why the concept of <u>train-dev-test split is very important</u>. We divide our data set into training set, development/validation set, and test sets. The **training set** is used to optimize the model parameters. The **validation set** is used for the development over all the model <u>hyper-parameters</u> (hidden layer size, embedding size, regularization strength, learning rate, etc.). The **test set** is used to evaluate the model performance. We use the test set only a few times and very sparingly to prevent overfitting the test set. A <u>typical train-dev-test percent split ratio</u> could be **80:10:10** for the size of our data ($<100,000$)."
   ]
  },
  {
   "cell_type": "code",
   "execution_count": 62,
   "id": "7b11813a",
   "metadata": {},
   "outputs": [
    {
     "name": "stdout",
     "output_type": "stream",
     "text": [
      "torch.Size([182625, 3]) torch.Size([182625])\n",
      "torch.Size([22655, 3]) torch.Size([22655])\n",
      "torch.Size([22866, 3]) torch.Size([22866])\n"
     ]
    }
   ],
   "source": [
    "# build the dataset\n",
    "\n",
    "def build_dataset(words):  \n",
    "    block_size = 3 # context length: how many characters do we take to predict the next one?\n",
    "    X, Y = [], []\n",
    "    for w in words:\n",
    "\n",
    "        #print(w)\n",
    "        context = [0] * block_size\n",
    "        for ch in w + '.':\n",
    "            ix = stoi[ch]\n",
    "            X.append(context)\n",
    "            Y.append(ix)\n",
    "            #print(''.join(itos[i] for i in context), '--->', itos[ix])\n",
    "            context = context[1:] + [ix] # crop and append\n",
    "\n",
    "    X = torch.tensor(X)\n",
    "    Y = torch.tensor(Y)\n",
    "    print(X.shape, Y.shape)\n",
    "    return X, Y\n",
    "\n",
    "\n",
    "random.seed(42)\n",
    "random.shuffle(words)\n",
    "n1 = int(0.8*len(words))\n",
    "n2 = int(0.9*len(words))\n",
    "\n",
    "Xtr, Ytr = build_dataset(words[:n1])\n",
    "Xdev, Ydev = build_dataset(words[n1:n2])\n",
    "Xte, Yte = build_dataset(words[n2:])"
   ]
  },
  {
   "cell_type": "code",
   "execution_count": 63,
   "id": "69a51194",
   "metadata": {},
   "outputs": [
    {
     "data": {
      "text/plain": [
       "32033"
      ]
     },
     "execution_count": 63,
     "metadata": {},
     "output_type": "execute_result"
    }
   ],
   "source": [
    "len(words)"
   ]
  },
  {
   "cell_type": "code",
   "execution_count": 64,
   "id": "8a5611ee",
   "metadata": {},
   "outputs": [
    {
     "data": {
      "text/plain": [
       "(25626, 3203, 3204)"
      ]
     },
     "execution_count": 64,
     "metadata": {},
     "output_type": "execute_result"
    }
   ],
   "source": [
    "# train-dev-test split\n",
    "n1, n2-n1, len(words)-n2"
   ]
  },
  {
   "cell_type": "code",
   "execution_count": 65,
   "id": "a4218b65",
   "metadata": {},
   "outputs": [
    {
     "data": {
      "text/plain": [
       "(torch.Size([182625, 3]), torch.Size([182625]))"
      ]
     },
     "execution_count": 65,
     "metadata": {},
     "output_type": "execute_result"
    }
   ],
   "source": [
    "Xtr.shape, Ytr.shape # dataset"
   ]
  },
  {
   "cell_type": "code",
   "execution_count": 66,
   "id": "4e29284a",
   "metadata": {},
   "outputs": [],
   "source": [
    "g = torch.Generator().manual_seed(2147483647)     # for reproducibility\n",
    "C = torch.randn((27, 2), generator=g)\n",
    "W1 = torch.randn((6, 100), generator=g)\n",
    "b1 = torch.randn(100, generator=g)\n",
    "W2 = torch.randn((100, 27), generator=g)\n",
    "b2 = torch.randn(27, generator=g)\n",
    "parameters = [C, W1, b1, W2, b2]"
   ]
  },
  {
   "cell_type": "code",
   "execution_count": 67,
   "id": "84a14416",
   "metadata": {},
   "outputs": [
    {
     "data": {
      "text/plain": [
       "3481"
      ]
     },
     "execution_count": 67,
     "metadata": {},
     "output_type": "execute_result"
    }
   ],
   "source": [
    "sum(p.nelement() for p in parameters) # number of parameters in total"
   ]
  },
  {
   "cell_type": "code",
   "execution_count": 68,
   "id": "7c29e576",
   "metadata": {},
   "outputs": [],
   "source": [
    "for p in parameters:\n",
    "    p.requires_grad = True"
   ]
  },
  {
   "cell_type": "code",
   "execution_count": 69,
   "id": "d7e05708",
   "metadata": {},
   "outputs": [],
   "source": [
    "lre = torch.linspace(-3, 0, 1000)\n",
    "lrs = 10**lre"
   ]
  },
  {
   "cell_type": "code",
   "execution_count": 70,
   "id": "f0ddb44e",
   "metadata": {},
   "outputs": [
    {
     "name": "stdout",
     "output_type": "stream",
     "text": [
      "2.2595973014831543\n"
     ]
    }
   ],
   "source": [
    "lri = []\n",
    "lossi = []\n",
    "\n",
    "for i in range(10000):\n",
    "    \n",
    "    # minibatch construct\n",
    "    ix = torch.randint(0, Xtr.shape[0], (32, ))\n",
    "    \n",
    "    # forward pass\n",
    "    emb = C[Xtr[ix]]                               # (32, 3, 2)\n",
    "    h = torch.tanh(emb.view(-1,6) @ W1 + b1)     # (32,100)\n",
    "    logits = h @ W2 + b2                         # (32, 27)\n",
    "    loss = F.cross_entropy(logits, Ytr[ix])\n",
    "    #print(loss.item())\n",
    "    \n",
    "    # backward pass\n",
    "    for p in parameters:\n",
    "        p.grad = None\n",
    "    loss.backward()\n",
    "\n",
    "    # update parameters\n",
    "#     lr = lrs[i]\n",
    "    lr = 0.01\n",
    "    for p in parameters:\n",
    "        p.data += -lr * p.grad\n",
    "        \n",
    "    # track stats\n",
    "#     lri.append(lr)\n",
    "#     lossi.append(loss.item())\n",
    "\n",
    "print(loss.item())"
   ]
  },
  {
   "cell_type": "code",
   "execution_count": 71,
   "id": "535d977b",
   "metadata": {},
   "outputs": [
    {
     "data": {
      "text/plain": [
       "tensor(2.5720, grad_fn=<NllLossBackward0>)"
      ]
     },
     "execution_count": 71,
     "metadata": {},
     "output_type": "execute_result"
    }
   ],
   "source": [
    "emb = C[Xtr]                                 # (32, 3, 2)\n",
    "h = torch.tanh(emb.view(-1,6) @ W1 + b1)     # (32,100)\n",
    "logits = h @ W2 + b2                         # (32, 27)\n",
    "loss = F.cross_entropy(logits, Ytr)\n",
    "loss"
   ]
  },
  {
   "cell_type": "code",
   "execution_count": 72,
   "id": "c1a2d2e3",
   "metadata": {},
   "outputs": [
    {
     "data": {
      "text/plain": [
       "tensor(2.5653, grad_fn=<NllLossBackward0>)"
      ]
     },
     "execution_count": 72,
     "metadata": {},
     "output_type": "execute_result"
    }
   ],
   "source": [
    "emb = C[Xdev]                                # (32, 3, 2)\n",
    "h = torch.tanh(emb.view(-1,6) @ W1 + b1)     # (32,100)\n",
    "logits = h @ W2 + b2                         # (32, 27)\n",
    "loss = F.cross_entropy(logits, Ydev)\n",
    "loss"
   ]
  },
  {
   "cell_type": "markdown",
   "id": "8f7a38bf",
   "metadata": {},
   "source": [
    "---\n",
    "The training and validation set losses are about equal, so we're not overfitting. This model is not powerful enough to just be purely memorizing the data. In other words, the model is **underfitting** the data because the training and validation losses are roughly equal. This means our neural network is very small/tiny. One performance improvement we can make to the model is by scaling up the size of this neural network. We can do this by:\n",
    "* _**increasing the `hidden layer size`**_\n",
    "* _**increasing the `embedding size`**_\n",
    "\n",
    "---"
   ]
  },
  {
   "cell_type": "markdown",
   "id": "500a53cf",
   "metadata": {},
   "source": [
    "------\n",
    "## 2.11. Experiment: Larger Hidden Layer<a id=\"211\"></a>\n",
    "-----\n",
    "Let's <u>increase the number of neurons in the hidden layer</u> from $\\boldsymbol{100}$ to $\\boldsymbol{300}$ neurons."
   ]
  },
  {
   "cell_type": "code",
   "execution_count": 73,
   "id": "c651dd2d",
   "metadata": {},
   "outputs": [],
   "source": [
    "g = torch.Generator().manual_seed(2147483647)     # for reproducibility\n",
    "C = torch.randn((27, 2), generator=g)\n",
    "W1 = torch.randn((6, 300), generator=g)\n",
    "b1 = torch.randn(300, generator=g)\n",
    "W2 = torch.randn((300, 27), generator=g)\n",
    "b2 = torch.randn(27, generator=g)\n",
    "parameters = [C, W1, b1, W2, b2]"
   ]
  },
  {
   "cell_type": "code",
   "execution_count": 74,
   "id": "e59780f5",
   "metadata": {},
   "outputs": [
    {
     "data": {
      "text/plain": [
       "10281"
      ]
     },
     "execution_count": 74,
     "metadata": {},
     "output_type": "execute_result"
    }
   ],
   "source": [
    "sum(p.nelement() for p in parameters) # number of parameters in total"
   ]
  },
  {
   "cell_type": "code",
   "execution_count": 75,
   "id": "9bb1d1d4",
   "metadata": {},
   "outputs": [],
   "source": [
    "for p in parameters:\n",
    "    p.requires_grad = True"
   ]
  },
  {
   "cell_type": "code",
   "execution_count": 76,
   "id": "99ad09c0",
   "metadata": {},
   "outputs": [],
   "source": [
    "lre = torch.linspace(-3, 0, 1000)\n",
    "lrs = 10**lre"
   ]
  },
  {
   "cell_type": "code",
   "execution_count": 77,
   "id": "394258be",
   "metadata": {},
   "outputs": [
    {
     "name": "stdout",
     "output_type": "stream",
     "text": [
      "2.492058277130127\n"
     ]
    }
   ],
   "source": [
    "lri = []\n",
    "lossi = []\n",
    "stepi = []\n",
    "\n",
    "for i in range(30000):\n",
    "    \n",
    "    # minibatch construct\n",
    "    ix = torch.randint(0, Xtr.shape[0], (32, ))\n",
    "    \n",
    "    # forward pass\n",
    "    emb = C[Xtr[ix]]                               # (32, 3, 2)\n",
    "    h = torch.tanh(emb.view(-1,6) @ W1 + b1)     # (32,100)\n",
    "    logits = h @ W2 + b2                         # (32, 27)\n",
    "    loss = F.cross_entropy(logits, Ytr[ix])\n",
    "    #print(loss.item())\n",
    "    \n",
    "    # backward pass\n",
    "    for p in parameters:\n",
    "        p.grad = None\n",
    "    loss.backward()\n",
    "\n",
    "    # update parameters\n",
    "#     lr = lrs[i]\n",
    "    lr = 0.01\n",
    "    for p in parameters:\n",
    "        p.data += -lr * p.grad\n",
    "        \n",
    "    # track stats\n",
    "    #lri.append(lr)\n",
    "    stepi.append(i)\n",
    "    lossi.append(loss.item())\n",
    "\n",
    "print(loss.item())"
   ]
  },
  {
   "cell_type": "code",
   "execution_count": 78,
   "id": "631bdf21",
   "metadata": {},
   "outputs": [
    {
     "data": {
      "text/plain": [
       "Text(0, 0.5, 'Loss')"
      ]
     },
     "execution_count": 78,
     "metadata": {},
     "output_type": "execute_result"
    },
    {
     "data": {
      "image/png": "[encoded data removed]",
      "text/plain": [
       "<Figure size 432x288 with 1 Axes>"
      ]
     },
     "metadata": {
      "needs_background": "light"
     },
     "output_type": "display_data"
    }
   ],
   "source": [
    "plt.plot(stepi, lossi)\n",
    "plt.title('Training Loss')\n",
    "plt.xlabel('Iterations')\n",
    "plt.ylabel('Loss')"
   ]
  },
  {
   "cell_type": "code",
   "execution_count": 79,
   "id": "8344e3b1",
   "metadata": {},
   "outputs": [
    {
     "data": {
      "text/plain": [
       "tensor(2.4651, grad_fn=<NllLossBackward0>)"
      ]
     },
     "execution_count": 79,
     "metadata": {},
     "output_type": "execute_result"
    }
   ],
   "source": [
    "emb = C[Xtr]                                 # (32, 3, 2)\n",
    "h = torch.tanh(emb.view(-1,6) @ W1 + b1)     # (32,100)\n",
    "logits = h @ W2 + b2                         # (32, 27)\n",
    "loss = F.cross_entropy(logits, Ytr)\n",
    "loss"
   ]
  },
  {
   "cell_type": "code",
   "execution_count": 80,
   "id": "c140a9c4",
   "metadata": {},
   "outputs": [
    {
     "data": {
      "text/plain": [
       "tensor(2.4563, grad_fn=<NllLossBackward0>)"
      ]
     },
     "execution_count": 80,
     "metadata": {},
     "output_type": "execute_result"
    }
   ],
   "source": [
    "emb = C[Xdev]                                # (32, 3, 2)\n",
    "h = torch.tanh(emb.view(-1,6) @ W1 + b1)     # (32,100)\n",
    "logits = h @ W2 + b2                         # (32, 27)\n",
    "loss = F.cross_entropy(logits, Ydev)\n",
    "loss"
   ]
  },
  {
   "cell_type": "markdown",
   "id": "3dad1806",
   "metadata": {},
   "source": [
    "---\n",
    "The training and validation losses are still roughly equal after increasing the hidden layer size. So we're not really improving the model much more and it still underfits. Therefore, the bottleneck could be the character embedding size.\n",
    "\n",
    "---"
   ]
  },
  {
   "cell_type": "markdown",
   "id": "19f5c9df",
   "metadata": {},
   "source": [
    "------\n",
    "## 2.12. Visualize Character Embeddings<a id=\"212\"></a>\n",
    "-----\n",
    "So far we've used $\\boldsymbol{2}$-dimensional embeddings. This can be a bottleneck in our model.\n",
    "\n",
    "Let’s try to visualize the character embeddings."
   ]
  },
  {
   "cell_type": "code",
   "execution_count": 81,
   "id": "f2c642f5",
   "metadata": {},
   "outputs": [
    {
     "data": {
      "image/png": "[encoded data removed]",
      "text/plain": [
       "<Figure size 576x576 with 1 Axes>"
      ]
     },
     "metadata": {
      "needs_background": "light"
     },
     "output_type": "display_data"
    }
   ],
   "source": [
    "plt.figure(figsize = (8,8))\n",
    "plt.scatter(C[:,0].data, C[:,1].data, s = 200)\n",
    "\n",
    "for i in range(C.shape[0]):\n",
    "    plt.text(C[i,0].item(),C[i,1].item(), itos[i], ha = \"center\", va = \"center\", color= \"white\")\n",
    "plt.grid('minor')"
   ]
  },
  {
   "cell_type": "markdown",
   "id": "7b1108db",
   "metadata": {},
   "source": [
    "------\n",
    "## 2.13. Experiment: Larger Embedding Size<a id=\"213\"></a>\n",
    "-----\n"
   ]
  },
  {
   "cell_type": "code",
   "execution_count": 82,
   "id": "ce25bdb6",
   "metadata": {},
   "outputs": [],
   "source": [
    "g = torch.Generator().manual_seed(2147483647)     # for reproducibility\n",
    "C = torch.randn((27, 10), generator=g)\n",
    "W1 = torch.randn((30, 200), generator=g)\n",
    "b1 = torch.randn(200, generator=g)\n",
    "W2 = torch.randn((200, 27), generator=g)\n",
    "b2 = torch.randn(27, generator=g)\n",
    "parameters = [C, W1, b1, W2, b2]"
   ]
  },
  {
   "cell_type": "code",
   "execution_count": 83,
   "id": "266a18f7",
   "metadata": {},
   "outputs": [
    {
     "data": {
      "text/plain": [
       "11897"
      ]
     },
     "execution_count": 83,
     "metadata": {},
     "output_type": "execute_result"
    }
   ],
   "source": [
    "sum(p.nelement() for p in parameters) # number of parameters in total"
   ]
  },
  {
   "cell_type": "code",
   "execution_count": 84,
   "id": "16c5906d",
   "metadata": {},
   "outputs": [],
   "source": [
    "for p in parameters:\n",
    "    p.requires_grad = True"
   ]
  },
  {
   "cell_type": "code",
   "execution_count": 85,
   "id": "dc5d63ae",
   "metadata": {},
   "outputs": [],
   "source": [
    "lre = torch.linspace(-3, 0, 1000)\n",
    "lrs = 10**lre"
   ]
  },
  {
   "cell_type": "code",
   "execution_count": 86,
   "id": "2fd1cd4f",
   "metadata": {},
   "outputs": [],
   "source": [
    "lri = []\n",
    "lossi = []\n",
    "stepi = []"
   ]
  },
  {
   "cell_type": "code",
   "execution_count": 87,
   "id": "4ec9f859",
   "metadata": {},
   "outputs": [
    {
     "name": "stdout",
     "output_type": "stream",
     "text": [
      "2.623623847961426\n"
     ]
    }
   ],
   "source": [
    "for i in range(50000):\n",
    "    \n",
    "    # minibatch construct\n",
    "    ix = torch.randint(0, Xtr.shape[0], (32, ))\n",
    "    \n",
    "    # forward pass\n",
    "    emb = C[Xtr[ix]]                               # (32, 3, 2)\n",
    "    h = torch.tanh(emb.view(-1,30) @ W1 + b1)     # (32,100)\n",
    "    logits = h @ W2 + b2                         # (32, 27)\n",
    "    loss = F.cross_entropy(logits, Ytr[ix])\n",
    "    #print(loss.item())\n",
    "    \n",
    "    # backward pass\n",
    "    for p in parameters:\n",
    "        p.grad = None\n",
    "    loss.backward()\n",
    "\n",
    "    # update parameters\n",
    "#     lr = lrs[i]\n",
    "    lr = 0.01\n",
    "    for p in parameters:\n",
    "        p.data += -lr * p.grad\n",
    "        \n",
    "    # track stats\n",
    "    #lri.append(lr)\n",
    "    stepi.append(i)\n",
    "    lossi.append(loss.log10().item())\n",
    "\n",
    "print(loss.item())"
   ]
  },
  {
   "cell_type": "code",
   "execution_count": 88,
   "id": "b7c541e7",
   "metadata": {},
   "outputs": [
    {
     "data": {
      "text/plain": [
       "Text(0, 0.5, 'Log loss')"
      ]
     },
     "execution_count": 88,
     "metadata": {},
     "output_type": "execute_result"
    },
    {
     "data": {
      "image/png": "[encoded data removed]",
      "text/plain": [
       "<Figure size 432x288 with 1 Axes>"
      ]
     },
     "metadata": {
      "needs_background": "light"
     },
     "output_type": "display_data"
    }
   ],
   "source": [
    "plt.plot(stepi, lossi)\n",
    "plt.title('Training Loss')\n",
    "plt.xlabel('Iterations')\n",
    "plt.ylabel('Log loss')"
   ]
  },
  {
   "cell_type": "code",
   "execution_count": 89,
   "id": "55a3b27a",
   "metadata": {},
   "outputs": [
    {
     "data": {
      "text/plain": [
       "tensor(2.4539, grad_fn=<NllLossBackward0>)"
      ]
     },
     "execution_count": 89,
     "metadata": {},
     "output_type": "execute_result"
    }
   ],
   "source": [
    "emb = C[Xtr]                                 # (32, 3, 2)\n",
    "h = torch.tanh(emb.view(-1,30) @ W1 + b1)    # (32,100)\n",
    "logits = h @ W2 + b2                         # (32, 27)\n",
    "loss = F.cross_entropy(logits, Ytr)\n",
    "loss"
   ]
  },
  {
   "cell_type": "code",
   "execution_count": 90,
   "id": "c2c0e2a0",
   "metadata": {},
   "outputs": [
    {
     "data": {
      "text/plain": [
       "tensor(2.4613, grad_fn=<NllLossBackward0>)"
      ]
     },
     "execution_count": 90,
     "metadata": {},
     "output_type": "execute_result"
    }
   ],
   "source": [
    "emb = C[Xdev]                                # (32, 3, 2)\n",
    "h = torch.tanh(emb.view(-1,30) @ W1 + b1)    # (32,100)\n",
    "logits = h @ W2 + b2                         # (32, 27)\n",
    "loss = F.cross_entropy(logits, Ydev)\n",
    "loss"
   ]
  },
  {
   "cell_type": "code",
   "execution_count": 91,
   "id": "5aa3d703",
   "metadata": {},
   "outputs": [
    {
     "data": {
      "image/png": "[encoded data removed]",
      "text/plain": [
       "<Figure size 576x576 with 1 Axes>"
      ]
     },
     "metadata": {
      "needs_background": "light"
     },
     "output_type": "display_data"
    }
   ],
   "source": [
    "plt.figure(figsize = (8,8))\n",
    "plt.scatter(C[:,0].data, C[:,1].data, s = 200)\n",
    "\n",
    "for i in range(C.shape[0]):\n",
    "    plt.text(C[i,0].item(),C[i,1].item(), itos[i], ha = \"center\", va = \"center\", color= \"white\")\n",
    "plt.grid('minor')"
   ]
  },
  {
   "cell_type": "markdown",
   "id": "1fc29017",
   "metadata": {},
   "source": [
    "---\n",
    "We can see that the validation loss is slowly diverging from the training loss. This means that our model is slowly starting to overfit. \n",
    "\n",
    "<a id='d3'></a>\n",
    "For further model improvements, we can change:\n",
    "* the **number of neurons in hidden layer**: `W1.shape[1]` (`b1.shape == W2.shape[0]`)\n",
    "* the dimensionality of the **embedding lookup table**: `C` (`m`: the embedding size)\n",
    "* the number of characters fed in as input as **context** into the model: `block_size`\n",
    "* the details of the optimization: \n",
    "    - **number of iterations, learning rate, & learning rate decay**\n",
    "    - **batch_size**: may be able to achieve a better convergence speed\n",
    "        - `ix = torch.randint(0, Xtr.shape[0], (batch_size, ))`\n",
    "    \n",
    "---"
   ]
  },
  {
   "cell_type": "markdown",
   "id": "42008c31",
   "metadata": {},
   "source": [
    "------\n",
    "## 2.14. Summary of Final Code<a id=\"214\"></a>\n",
    "-----\n"
   ]
  },
  {
   "cell_type": "code",
   "execution_count": 92,
   "id": "ecb26f44",
   "metadata": {},
   "outputs": [
    {
     "data": {
      "text/plain": [
       "(torch.Size([182625, 3]), torch.Size([182625]))"
      ]
     },
     "execution_count": 92,
     "metadata": {},
     "output_type": "execute_result"
    }
   ],
   "source": [
    "Xtr.shape, Ytr.shape # dataset"
   ]
  },
  {
   "cell_type": "code",
   "execution_count": 93,
   "id": "11977440",
   "metadata": {},
   "outputs": [],
   "source": [
    "g = torch.Generator().manual_seed(2147483647)     # for reproducibility\n",
    "C = torch.randn((27, 10), generator=g)\n",
    "W1 = torch.randn((30, 200), generator=g)\n",
    "b1 = torch.randn(200, generator=g)\n",
    "W2 = torch.randn((200, 27), generator=g)\n",
    "b2 = torch.randn(27, generator=g)\n",
    "parameters = [C, W1, b1, W2, b2]"
   ]
  },
  {
   "cell_type": "code",
   "execution_count": 94,
   "id": "46c68bc5",
   "metadata": {},
   "outputs": [
    {
     "data": {
      "text/plain": [
       "11897"
      ]
     },
     "execution_count": 94,
     "metadata": {},
     "output_type": "execute_result"
    }
   ],
   "source": [
    "sum(p.nelement() for p in parameters) # number of parameters in total"
   ]
  },
  {
   "cell_type": "code",
   "execution_count": 95,
   "id": "0d934da2",
   "metadata": {},
   "outputs": [],
   "source": [
    "for p in parameters:\n",
    "    p.requires_grad = True"
   ]
  },
  {
   "cell_type": "code",
   "execution_count": 96,
   "id": "79329fad",
   "metadata": {},
   "outputs": [],
   "source": [
    "lre = torch.linspace(-3, 0, 1000)\n",
    "lrs = 10**lre"
   ]
  },
  {
   "cell_type": "code",
   "execution_count": 97,
   "id": "f98c8eb3",
   "metadata": {},
   "outputs": [],
   "source": [
    "lri = []\n",
    "lossi = []\n",
    "stepi = []"
   ]
  },
  {
   "cell_type": "code",
   "execution_count": 98,
   "id": "66823a59",
   "metadata": {},
   "outputs": [
    {
     "name": "stdout",
     "output_type": "stream",
     "text": [
      "2.3276724815368652\n"
     ]
    }
   ],
   "source": [
    "for i in range(200000):\n",
    "    \n",
    "    # minibatch construct\n",
    "    ix = torch.randint(0, Xtr.shape[0], (32, ))\n",
    "    \n",
    "    # forward pass\n",
    "    emb = C[Xtr[ix]]                               # (32, 3, 2)\n",
    "    h = torch.tanh(emb.view(-1, 30) @ W1 + b1)     # (32,100)\n",
    "    logits = h @ W2 + b2                           # (32, 27)\n",
    "    loss = F.cross_entropy(logits, Ytr[ix])\n",
    "    #print(loss.item())\n",
    "    \n",
    "    # backward pass\n",
    "    for p in parameters:\n",
    "        p.grad = None\n",
    "    loss.backward()\n",
    "\n",
    "    # update parameters\n",
    "    #lr = lrs[i]\n",
    "    lr = 0.1 if i < 100000 else 0.01\n",
    "    for p in parameters:\n",
    "        p.data += -lr * p.grad\n",
    "        \n",
    "    # track stats\n",
    "    #lri.append(lr)\n",
    "    stepi.append(i)\n",
    "    lossi.append(loss.log10().item())\n",
    "\n",
    "print(loss.item())"
   ]
  },
  {
   "cell_type": "code",
   "execution_count": 99,
   "id": "98edbc63",
   "metadata": {},
   "outputs": [
    {
     "data": {
      "text/plain": [
       "Text(0, 0.5, 'Log loss')"
      ]
     },
     "execution_count": 99,
     "metadata": {},
     "output_type": "execute_result"
    },
    {
     "data": {
      "image/png": "[encoded data removed]",
      "text/plain": [
       "<Figure size 432x288 with 1 Axes>"
      ]
     },
     "metadata": {
      "needs_background": "light"
     },
     "output_type": "display_data"
    }
   ],
   "source": [
    "plt.plot(stepi, lossi)\n",
    "plt.title('Training Loss')\n",
    "plt.xlabel('Iterations')\n",
    "plt.ylabel('Log loss')"
   ]
  },
  {
   "cell_type": "code",
   "execution_count": 100,
   "id": "2dd40a75",
   "metadata": {},
   "outputs": [
    {
     "data": {
      "text/plain": [
       "tensor(2.1329, grad_fn=<NllLossBackward0>)"
      ]
     },
     "execution_count": 100,
     "metadata": {},
     "output_type": "execute_result"
    }
   ],
   "source": [
    "emb = C[Xtr]                                 # (32, 3, 2)\n",
    "h = torch.tanh(emb.view(-1,30) @ W1 + b1)    # (32,100)\n",
    "logits = h @ W2 + b2                         # (32, 27)\n",
    "loss = F.cross_entropy(logits, Ytr)\n",
    "loss"
   ]
  },
  {
   "cell_type": "code",
   "execution_count": 101,
   "id": "f6eb2abe",
   "metadata": {},
   "outputs": [
    {
     "data": {
      "text/plain": [
       "tensor(2.1743, grad_fn=<NllLossBackward0>)"
      ]
     },
     "execution_count": 101,
     "metadata": {},
     "output_type": "execute_result"
    }
   ],
   "source": [
    "emb = C[Xdev]                                # (32, 3, 2)\n",
    "h = torch.tanh(emb.view(-1,30) @ W1 + b1)    # (32,100)\n",
    "logits = h @ W2 + b2                         # (32, 27)\n",
    "loss = F.cross_entropy(logits, Ydev)\n",
    "loss"
   ]
  },
  {
   "cell_type": "code",
   "execution_count": 102,
   "id": "c4a98084",
   "metadata": {},
   "outputs": [
    {
     "data": {
      "image/png": "[encoded data removed]",
      "text/plain": [
       "<Figure size 576x576 with 1 Axes>"
      ]
     },
     "metadata": {
      "needs_background": "light"
     },
     "output_type": "display_data"
    }
   ],
   "source": [
    "# visualize dimensions 0 and 1 of the embedding matrix C for all characters\n",
    "plt.figure(figsize = (8,8))\n",
    "plt.scatter(C[:,0].data, C[:,1].data, s = 200)\n",
    "for i in range(C.shape[0]):\n",
    "    plt.text(C[i,0].item(),C[i,1].item(), itos[i], ha = \"center\", va = \"center\", color= \"white\")\n",
    "plt.grid('minor')"
   ]
  },
  {
   "cell_type": "markdown",
   "id": "71350183",
   "metadata": {},
   "source": [
    "------\n",
    "## 2.15. Sampling from the Model<a id=\"215\"></a>\n",
    "-----\n",
    "Let’s generate some names using the model. We prompt the model with an initial context indicated by **`'...'`**. The model utilizes its learned weights and biases to transform this input into a set of output probabilities. From these probabilities, we randomly sample the next character to progressively build the name."
   ]
  },
  {
   "cell_type": "code",
   "execution_count": 103,
   "id": "92ff70ce",
   "metadata": {},
   "outputs": [
    {
     "data": {
      "text/plain": [
       "torch.Size([1, 3, 10])"
      ]
     },
     "execution_count": 103,
     "metadata": {},
     "output_type": "execute_result"
    }
   ],
   "source": [
    "context = [0] * block_size\n",
    "C[torch.tensor([context])].shape"
   ]
  },
  {
   "cell_type": "code",
   "execution_count": 104,
   "id": "a493ce5a",
   "metadata": {},
   "outputs": [
    {
     "name": "stdout",
     "output_type": "stream",
     "text": [
      "carmah.\n",
      "amelle.\n",
      "khismilialaty.\n",
      "salaysleer.\n",
      "hutlaymerric.\n",
      "kaeli.\n",
      "nellara.\n",
      "chaiiv.\n",
      "kaleigh.\n",
      "ham.\n",
      "jois.\n",
      "quinn.\n",
      "shorden.\n",
      "jadii.\n",
      "waje.\n",
      "madiaryxi.\n",
      "jace.\n",
      "pirran.\n",
      "edde.\n",
      "oib.\n"
     ]
    }
   ],
   "source": [
    "# sample from the model\n",
    "g = torch.Generator().manual_seed(2147483647 + 10)\n",
    "\n",
    "for _ in range(20):\n",
    "    \n",
    "    out = []\n",
    "    context = [0] * block_size # initialize with all ...\n",
    "    while True:\n",
    "        emb = C[torch.tensor([context])] # (1,block_size,d)\n",
    "        h = torch.tanh(emb.view(1, -1) @ W1 + b1)\n",
    "        logits = h @ W2 + b2\n",
    "        probs = F.softmax(logits, dim=1)\n",
    "        ix = torch.multinomial(probs, num_samples=1, generator=g).item()\n",
    "        context = context[1:] + [ix]\n",
    "        out.append(ix)\n",
    "        if ix == 0:\n",
    "            break\n",
    "\n",
    "    print(''.join(itos[i] for i in out))"
   ]
  },
  {
   "cell_type": "markdown",
   "id": "f1a767ea",
   "metadata": {},
   "source": [
    "---------\n",
    "<br><br>\n",
    "# 3. Conclusion<a id=\"3\"></a>\n",
    "-------------------------------------------------------\n",
    "In this notebook we implemented a multilayer perceptron (MLP) model as the character-level language model to handle the issue of **curse of dimensionality** from the n-gram character-level models. We aim to address the limitations of the bigram and trigram language models, particularly their struggle to produce name-like names because of their restrictions to <u>only a single preceding character</u> analysis.  During the building and training of the model, some of the concepts we learned about were <u>**embeddings, minibatches, hyperparameter optimization, under/overfitting, dataset train-dev-test splits, & model evaluation.**</u>\n",
    "\n",
    "This notebook explains how to build a language model using neural networks. It covers the fundamental concepts of training a neural network on a training set and evaluating its performance on a test set, as well as splitting data into train, development, and test sets. The series also delves into the specifics of how a neural network can predict the next character in a sequence, and how to use the Torch library for language modeling operations. Additionally, it demonstrates how to build a language model using the \"logistic\" neural net shape and create a language model that can predict the next character in a sequence.\n",
    "\n",
    "This notebook also covers more advanced topics, such as how to perform forward and backward passes in language modeling, determine a learning rate for a language model, and optimize the model for better performance. It covers how to improve model performance by tuning optimization parameters and increasing the number of input characters. Overall, this notebook offers a comprehensive guide to building and optimizing language models using neural networks, making it a valuable resource for anyone looking to learn about this topic."
   ]
  },
  {
   "cell_type": "markdown",
   "id": "2b2c5040",
   "metadata": {},
   "source": [
    "---------\n",
    "<br><br>\n",
    "# Appendix: Tensor Manipulations<a id=\"d4\"></a>\n",
    "-------------------------------------------------------\n",
    "\n",
    "We go over tensor manipulations in `PyTorch` that can be helpful for mathematical operations of matrices and tensors. We go over two `torch` methods."
   ]
  },
  {
   "cell_type": "markdown",
   "id": "7727299f",
   "metadata": {},
   "source": [
    "### Concatenation\n",
    "----"
   ]
  },
  {
   "cell_type": "code",
   "execution_count": 105,
   "id": "19570f1c",
   "metadata": {},
   "outputs": [
    {
     "data": {
      "text/plain": [
       "tensor([[[ 2,  3],\n",
       "         [ 4,  5],\n",
       "         [ 6,  7]],\n",
       "\n",
       "        [[ 8,  9],\n",
       "         [10, 11],\n",
       "         [12, 13]]])"
      ]
     },
     "execution_count": 105,
     "metadata": {},
     "output_type": "execute_result"
    }
   ],
   "source": [
    "test = torch.tensor([[[2, 3],\n",
    "                   [4, 5],\n",
    "                   [6, 7]],\n",
    "                    \n",
    "                   [[8, 9],\n",
    "                    [10, 11],\n",
    "                    [12, 13]]])\n",
    "test"
   ]
  },
  {
   "cell_type": "code",
   "execution_count": 106,
   "id": "b51c798d",
   "metadata": {},
   "outputs": [
    {
     "data": {
      "text/plain": [
       "tensor([[ 2,  3,  4,  5,  6,  7],\n",
       "        [ 8,  9, 10, 11, 12, 13]])"
      ]
     },
     "execution_count": 106,
     "metadata": {},
     "output_type": "execute_result"
    }
   ],
   "source": [
    "test_cat = torch.cat([test[:, 0, :], test[:, 1, :], test[:, 2, :]], 1)\n",
    "test_cat"
   ]
  },
  {
   "cell_type": "code",
   "execution_count": 107,
   "id": "c9182acf",
   "metadata": {},
   "outputs": [
    {
     "data": {
      "text/plain": [
       "(torch.Size([2, 3, 2]), torch.Size([2, 6]))"
      ]
     },
     "execution_count": 107,
     "metadata": {},
     "output_type": "execute_result"
    }
   ],
   "source": [
    "test.shape, test_cat.shape"
   ]
  },
  {
   "cell_type": "markdown",
   "id": "00de1d6d",
   "metadata": {},
   "source": [
    "### View\n",
    "----\n",
    "`.view` is much more efficient and the underlying `PyTorch` storage does not change. Furthermore, no new additional memory is allocated."
   ]
  },
  {
   "cell_type": "code",
   "execution_count": 108,
   "id": "bd0f802a",
   "metadata": {},
   "outputs": [
    {
     "data": {
      "text/plain": [
       "tensor([ 0,  1,  2,  3,  4,  5,  6,  7,  8,  9, 10, 11, 12, 13, 14, 15, 16, 17])"
      ]
     },
     "execution_count": 108,
     "metadata": {},
     "output_type": "execute_result"
    }
   ],
   "source": [
    "a = torch.arange(18)\n",
    "a"
   ]
  },
  {
   "cell_type": "code",
   "execution_count": 109,
   "id": "0b5f18e7",
   "metadata": {},
   "outputs": [
    {
     "data": {
      "text/plain": [
       "torch.Size([18])"
      ]
     },
     "execution_count": 109,
     "metadata": {},
     "output_type": "execute_result"
    }
   ],
   "source": [
    "a.shape"
   ]
  },
  {
   "cell_type": "code",
   "execution_count": 110,
   "id": "0aad7f71",
   "metadata": {},
   "outputs": [
    {
     "data": {
      "text/plain": [
       "tensor([[ 0,  1,  2,  3,  4,  5,  6,  7,  8],\n",
       "        [ 9, 10, 11, 12, 13, 14, 15, 16, 17]])"
      ]
     },
     "execution_count": 110,
     "metadata": {},
     "output_type": "execute_result"
    }
   ],
   "source": [
    "a.view(2, 9) # extremely efficient"
   ]
  },
  {
   "cell_type": "code",
   "execution_count": 111,
   "id": "4a017b81",
   "metadata": {
    "scrolled": true
   },
   "outputs": [
    {
     "data": {
      "text/plain": [
       "tensor([[ 0,  1],\n",
       "        [ 2,  3],\n",
       "        [ 4,  5],\n",
       "        [ 6,  7],\n",
       "        [ 8,  9],\n",
       "        [10, 11],\n",
       "        [12, 13],\n",
       "        [14, 15],\n",
       "        [16, 17]])"
      ]
     },
     "execution_count": 111,
     "metadata": {},
     "output_type": "execute_result"
    }
   ],
   "source": [
    "a.view(9, 2)"
   ]
  },
  {
   "cell_type": "code",
   "execution_count": 112,
   "id": "7320fa64",
   "metadata": {
    "scrolled": true
   },
   "outputs": [
    {
     "data": {
      "text/plain": [
       "tensor([[[ 0,  1],\n",
       "         [ 2,  3],\n",
       "         [ 4,  5]],\n",
       "\n",
       "        [[ 6,  7],\n",
       "         [ 8,  9],\n",
       "         [10, 11]],\n",
       "\n",
       "        [[12, 13],\n",
       "         [14, 15],\n",
       "         [16, 17]]])"
      ]
     },
     "execution_count": 112,
     "metadata": {},
     "output_type": "execute_result"
    }
   ],
   "source": [
    "a.view(3, 3, 2)"
   ]
  },
  {
   "cell_type": "code",
   "execution_count": 113,
   "id": "c9ced986",
   "metadata": {
    "scrolled": true
   },
   "outputs": [
    {
     "data": {
      "text/plain": [
       " 0\n",
       " 1\n",
       " 2\n",
       " 3\n",
       " 4\n",
       " 5\n",
       " 6\n",
       " 7\n",
       " 8\n",
       " 9\n",
       " 10\n",
       " 11\n",
       " 12\n",
       " 13\n",
       " 14\n",
       " 15\n",
       " 16\n",
       " 17\n",
       "[torch.LongStorage of size 18]"
      ]
     },
     "execution_count": 113,
     "metadata": {},
     "output_type": "execute_result"
    }
   ],
   "source": [
    "a.storage()"
   ]
  },
  {
   "cell_type": "markdown",
   "id": "5acec05d",
   "metadata": {},
   "source": [
    "---------\n",
    "<br><br>\n",
    "# Appendix: Embeddings<a id=\"d5\"></a>\n",
    "-------------------------------------------------------\n",
    "\n",
    "We go over embeddings and embedding lookup tables in `PyTorch` that are necessary for the MLP model we build in this notebook. *Embedding an integer* means mapping the integer to a feature vector. Let's go through various types of embeddings."
   ]
  },
  {
   "cell_type": "markdown",
   "id": "62b9e393",
   "metadata": {},
   "source": [
    "### Single Integer Embedding\n",
    "----"
   ]
  },
  {
   "cell_type": "code",
   "execution_count": 114,
   "id": "092b44e5",
   "metadata": {
    "scrolled": true
   },
   "outputs": [
    {
     "name": "stdout",
     "output_type": "stream",
     "text": [
      "tensor([ 0.5915,  0.2553, -1.2696, -0.4579,  0.4209,  3.0067,  1.9783, -1.1180,\n",
      "         0.9884, -1.3976], grad_fn=<SelectBackward0>)\n",
      "tensor([ 0.5915,  0.2553, -1.2696, -0.4579,  0.4209,  3.0067,  1.9783, -1.1180,\n",
      "         0.9884, -1.3976], grad_fn=<SqueezeBackward3>)\n"
     ]
    }
   ],
   "source": [
    "# Direct indexing access\n",
    "print(C[1])\n",
    "\n",
    "\n",
    "# Using one-hot encoding \n",
    "print(F.one_hot(torch.tensor(1), num_classes=27).float() @ C)"
   ]
  },
  {
   "cell_type": "markdown",
   "id": "c7b3399d",
   "metadata": {},
   "source": [
    "### Multiple Integers Embedding\n",
    "----"
   ]
  },
  {
   "cell_type": "code",
   "execution_count": 115,
   "id": "bebf5ce1",
   "metadata": {},
   "outputs": [
    {
     "name": "stdout",
     "output_type": "stream",
     "text": [
      "tensor([[ 2.3033e+00,  3.0027e-01,  3.8556e-01, -1.1099e+00,  1.3141e-01,\n",
      "          4.6951e-01, -2.0946e+00,  1.4270e+00,  5.9253e-01,  2.0175e+00],\n",
      "        [ 5.9151e-01,  2.5531e-01, -1.2696e+00, -4.5790e-01,  4.2094e-01,\n",
      "          3.0067e+00,  1.9783e+00, -1.1180e+00,  9.8836e-01, -1.3976e+00],\n",
      "        [ 1.9471e-01,  1.6241e-03, -6.8770e-01, -3.3083e-01,  3.3575e-01,\n",
      "          8.5847e-01,  8.4312e-01,  1.4996e-02, -1.4439e-01,  3.6371e-01]],\n",
      "       grad_fn=<IndexBackward0>)\n",
      "tensor([[ 2.3033e+00,  3.0027e-01,  3.8556e-01, -1.1099e+00,  1.3141e-01,\n",
      "          4.6951e-01, -2.0946e+00,  1.4270e+00,  5.9253e-01,  2.0175e+00],\n",
      "        [ 5.9151e-01,  2.5531e-01, -1.2696e+00, -4.5790e-01,  4.2094e-01,\n",
      "          3.0067e+00,  1.9783e+00, -1.1180e+00,  9.8836e-01, -1.3976e+00],\n",
      "        [ 1.9471e-01,  1.6241e-03, -6.8770e-01, -3.3083e-01,  3.3575e-01,\n",
      "          8.5847e-01,  8.4312e-01,  1.4996e-02, -1.4439e-01,  3.6371e-01]],\n",
      "       grad_fn=<IndexBackward0>)\n"
     ]
    }
   ],
   "source": [
    "# You can use lists to embed multiple integers at once.\n",
    "print(C[[0, 1, 2]])\n",
    "\n",
    "\n",
    "# Tensors will work as well\n",
    "x = torch.tensor([0, 1, 2])\n",
    "print(C[x])"
   ]
  },
  {
   "cell_type": "markdown",
   "id": "08df4ef4",
   "metadata": {},
   "source": [
    "### Embedding using multi-dimensional tensor\n",
    "----"
   ]
  },
  {
   "cell_type": "code",
   "execution_count": 116,
   "id": "02b49703",
   "metadata": {},
   "outputs": [
    {
     "name": "stdout",
     "output_type": "stream",
     "text": [
      "tensor([[[ 2.3033e+00,  3.0027e-01,  3.8556e-01, -1.1099e+00,  1.3141e-01,\n",
      "           4.6951e-01, -2.0946e+00,  1.4270e+00,  5.9253e-01,  2.0175e+00],\n",
      "         [ 5.9151e-01,  2.5531e-01, -1.2696e+00, -4.5790e-01,  4.2094e-01,\n",
      "           3.0067e+00,  1.9783e+00, -1.1180e+00,  9.8836e-01, -1.3976e+00],\n",
      "         [ 1.9471e-01,  1.6241e-03, -6.8770e-01, -3.3083e-01,  3.3575e-01,\n",
      "           8.5847e-01,  8.4312e-01,  1.4996e-02, -1.4439e-01,  3.6371e-01]],\n",
      "\n",
      "        [[ 2.3033e+00,  3.0027e-01,  3.8556e-01, -1.1099e+00,  1.3141e-01,\n",
      "           4.6951e-01, -2.0946e+00,  1.4270e+00,  5.9253e-01,  2.0175e+00],\n",
      "         [ 5.9151e-01,  2.5531e-01, -1.2696e+00, -4.5790e-01,  4.2094e-01,\n",
      "           3.0067e+00,  1.9783e+00, -1.1180e+00,  9.8836e-01, -1.3976e+00],\n",
      "         [ 1.9471e-01,  1.6241e-03, -6.8770e-01, -3.3083e-01,  3.3575e-01,\n",
      "           8.5847e-01,  8.4312e-01,  1.4996e-02, -1.4439e-01,  3.6371e-01]]],\n",
      "       grad_fn=<IndexBackward0>)\n"
     ]
    }
   ],
   "source": [
    "x = torch.tensor([\n",
    "    [0, 1, 2], \n",
    "    [0, 1, 2]\n",
    "])\n",
    "print(C[x])"
   ]
  },
  {
   "cell_type": "markdown",
   "id": "633040e3",
   "metadata": {},
   "source": [
    "-----\n",
    "<br><br><a id=\"e1\"></a>\n",
    "# Exercises\n",
    "----\n",
    "1. Tune the hyperparameters of the training to beat **karpathy's best validation loss of 2.2**.\n",
    "2. I was not careful with the intialization of the network in this video.\n",
    "    1. What is the loss you'd get if the predicted probabilities at initialization were perfectly uniform? What loss do we achieve? \n",
    "    2. Can you tune the initialization to get a starting loss that is much more similar to (1)?\n",
    "3. Read the [Bengio et al 2003 paper](https://www.jmlr.org/papers/volume3/bengio03a/bengio03a.pdf), implement and try any idea from the paper. Did it work?"
   ]
  },
  {
   "cell_type": "markdown",
   "id": "a9154496",
   "metadata": {},
   "source": [
    "-----\n",
    "<br><br><a id=\"r1\"></a>\n",
    "# References\n",
    "----\n",
    "1. \"<u>Building makemore Part 2: MLP</u>\" [youtube video](https://www.youtube.com/watch?v=TCH_1BHY58I), Sept 2022.\n",
    "2. Andrej Karpathy **Makemore** [github repo](https://github.com/karpathy/makemore).\n",
    "3. Andrej Karpathy  **Neural Networks: Zero to Hero** [github repo](https://github.com/karpathy/nn-zero-to-hero/tree/master) ([notebook](https://github.com/karpathy/nn-zero-to-hero/blob/master/lectures/makemore/makemore_part2_mlp.ipynb) to follow video tutorial with).\n",
    "4. Article: \"<u>Multilayer Perceptron with Andrej Karpathy</u>\" - Kavishka Abeywardana, Pt [1](https://medium.com/@kdwa2404/multilayer-perceptron-with-andrej-karpathy-part-1-7f530278c2b7), [2](https://medium.com/@kdwa2404/multilayer-perceptron-with-andrej-karpathy-part-2-38a75dc2e5a4), March 2024.\n",
    "5. Article: \"<u>Implementing a Character-Level Language Model Using MLP</u>\" - Tahir Rauf, Pt [2A](https://blog.gopenai.com/implementing-a-character-level-bigram-language-model-using-mlp-part-2a-73e79dd0ae8d), [2B](https://ai.plainenglish.io/implementing-a-character-level-bigram-language-model-using-mlp-part-2-b-c72a126b32a3), Dec 2023.\n",
    "6. \"<u>Deep Dive into AI: Analyzing and implementing Multilayer Perceptrons</u>\" - Ada Choudhry, [article](https://medium.com/@adachoudhry26/deep-dive-into-ai-analyzing-and-implementing-multilayer-perceptrons-f8acaecfd846), Jan 2024.\n",
    "7. \"<u>Notes on Andrej Karpathy’s makemore videos. Part 2.</u>\" - Maxime Markov, [article](https://medium.com/@maxmarkovvision/notes-on-andrej-karpathys-makemore-videos-part-2-58ee51912c5c), Nov 2022.\n",
    "8. \"<u>What Is the Curse of Dimensionality?</u>\" - Badreesh Shetty, [article](https://builtin.com/data-science/curse-dimensionality), Aug 2022.\n",
    "9. \"<u>The Curse of Dimensionality in Machine Learning: Challenges, Impacts, and Solutions</u>\" - Abid Ali Awan, [article](https://www.datacamp.com/blog/curse-of-dimensionality-machine-learning), Sep 2023.\n",
    "10. \"<u>A Neural Probabilistic Language Model</u>\" - Bengio et. al. [Academic Paper](https://www.jmlr.org/papers/volume3/bengio03a/bengio03a.pdf), 2003\n",
    "11. PyTorch Resources: [`torch.cat`](https://pytorch.org/docs/stable/generated/torch.cat.html), [`torch.Tensor.view`](https://pytorch.org/docs/stable/generated/torch.Tensor.view.html)\n",
    "12. Wikipedia: [Autoregressive Model](https://en.wikipedia.org/wiki/Autoregressive_model)\n",
    "13. Stack Overflow: [`np.random.rand` vs `np.random.randn`](https://stackoverflow.com/questions/47240308/differences-between-numpy-random-rand-vs-numpy-random-randn-in-python)\n",
    "\n",
    "------"
   ]
  }
 ],
 "metadata": {
  "kernelspec": {
   "display_name": "Python 3",
   "language": "python",
   "name": "python3"
  },
  "language_info": {
   "codemirror_mode": {
    "name": "ipython",
    "version": 3
   },
   "file_extension": ".py",
   "mimetype": "text/x-python",
   "name": "python",
   "nbconvert_exporter": "python",
   "pygments_lexer": "ipython3",
   "version": "3.6.10"
  }
 },
 "nbformat": 4,
 "nbformat_minor": 5
}
