{
 "cells": [
  {
   "cell_type": "markdown",
   "id": "cf7a31b0",
   "metadata": {},
   "source": [
    "# makemore: bigram exercises\n",
    "\n",
    "1. watch the \"<u>makemore: bigram</u>\" video on [YouTube](https://www.youtube.com/watch?v=PaCmpygFfXo&list=PLAqhIrjkxbuWI23v9cThsA9GvCAUhRvKZ&index=3)\n",
    "2. come back and complete these exercises to level up :)\n",
    "\n",
    "-----\n",
    "<br><br><a id=\"e1\"></a>\n",
    "# Exercises\n",
    "----\n",
    "1. Train a [**trigram**](#1) language model, i.e. take two characters as an input to predict the 3rd one. Feel free to use either [counting](#1a) or a [neural net](#1b). Evaluate the loss; Did it improve over a **bigram** model?\n",
    "2. [Split up the dataset](#2) randomly into <u>80% train set, 10% dev set, 10% test set</u>. Train the bigram and trigram models only on the training set. Evaluate them on dev and test splits. What can you see?\n",
    "3. Use the <u>[dev set to tune the strength of smoothing (or regularization)](#3)</u> for the trigram model - i.e. try many possibilities and see which one works best based on the dev set loss. What patterns can you see in the train and dev set loss as you tune this strength? Take the best setting of the smoothing and evaluate on the test set once and at the end. How good of a loss do you achieve?\n",
    "4. We saw that our 1-hot vectors merely select a row of `W`, so producing these vectors explicitly feels wasteful. Can you delete our use of `F.one_hot` in favor of [simply indexing into rows of `W`](#4)?\n",
    "5. [Look up and use `F.cross_entropy` instead](#5). You should achieve the same result. Can you think of why we'd prefer to use `F.cross_entropy` instead?\n",
    "6. [Meta-exercise!](#6) Think of a fun/interesting exercise and complete it."
   ]
  },
  {
   "cell_type": "markdown",
   "id": "fea1d142",
   "metadata": {},
   "source": [
    "----\n",
    "<a id='1'></a>\n",
    "# 1. Trigram Model\n"
   ]
  },
  {
   "cell_type": "markdown",
   "id": "7ff4ca39",
   "metadata": {},
   "source": [
    "-----\n",
    "<a id='1a'></a>\n",
    "## a. Counting Approach"
   ]
  },
  {
   "cell_type": "code",
   "execution_count": 1,
   "id": "fdc433cd",
   "metadata": {},
   "outputs": [],
   "source": [
    "import math, random\n",
    "import numpy as np\n",
    "import pandas as pd\n",
    "import seaborn as sns\n",
    "import torch\n",
    "import torch.nn.functional as F\n",
    "import nltk\n",
    "from collections import defaultdict\n",
    "from tqdm import tqdm\n",
    "from pprint import pprint\n",
    "\n",
    "\n",
    "import matplotlib.pyplot as plt\n",
    "from matplotlib.colors import Normalize\n",
    "%matplotlib inline"
   ]
  },
  {
   "cell_type": "code",
   "execution_count": 2,
   "id": "427936e8",
   "metadata": {},
   "outputs": [
    {
     "data": {
      "text/plain": [
       "['emma',\n",
       " 'olivia',\n",
       " 'ava',\n",
       " 'isabella',\n",
       " 'sophia',\n",
       " 'charlotte',\n",
       " 'mia',\n",
       " 'amelia',\n",
       " 'harper',\n",
       " 'evelyn']"
      ]
     },
     "execution_count": 2,
     "metadata": {},
     "output_type": "execute_result"
    }
   ],
   "source": [
    "words = open('../data/names.txt', 'r').read().splitlines()\n",
    "words[:10]"
   ]
  },
  {
   "cell_type": "code",
   "execution_count": 3,
   "id": "874472bd",
   "metadata": {},
   "outputs": [
    {
     "name": "stdout",
     "output_type": "stream",
     "text": [
      "the shortest word length in the corpus is: 2\n",
      "the longest word length in the corpus is: 15\n",
      "the length of the corpus document (num of words) is: 32033\n"
     ]
    }
   ],
   "source": [
    "print(f\"the shortest word length in the corpus is: {min(len(w) for w in words)}\")\n",
    "print(f\"the longest word length in the corpus is: {max(len(w) for w in words)}\")\n",
    "print(f\"the length of the corpus document (num of words) is: {len(words)}\")"
   ]
  },
  {
   "cell_type": "code",
   "execution_count": 4,
   "id": "e767ba46",
   "metadata": {},
   "outputs": [
    {
     "name": "stdout",
     "output_type": "stream",
     "text": [
      "(\"the 10 most common trigrams: [(('a', 'h', '.'), 1714), (('n', 'a', '.'), \"\n",
      " \"1673), (('a', 'n', '.'), 1509), (('o', 'n', '.'), 1503), (('.', 'm', 'a'), \"\n",
      " \"1453), (('.', 'j', 'a'), 1255), (('.', 'k', 'a'), 1254), (('e', 'n', '.'), \"\n",
      " \"1217), (('l', 'y', 'n'), 976), (('y', 'n', '.'), 953)]\")\n"
     ]
    }
   ],
   "source": [
    "t = {}\n",
    "for w in words:\n",
    "    chs = ['.'] + list(w) + ['.']\n",
    "    for ch1, ch2, ch3 in zip(chs, chs[1:], chs[2:]):\n",
    "        trigram = (ch1, ch2, ch3)\n",
    "        t[trigram] = t.get(trigram, 0) + 1\n",
    "pprint(f'the 10 most common trigrams: {sorted(t.items(), key = lambda kv: -kv[1])[:10]}')"
   ]
  },
  {
   "cell_type": "code",
   "execution_count": 5,
   "id": "fac7d50c",
   "metadata": {},
   "outputs": [],
   "source": [
    "N = torch.zeros((27, 27, 27), dtype=torch.int32)\n",
    "\n",
    "chars = sorted(list(set(''.join(words))))\n",
    "stoi = {s:i+1 for i,s in enumerate(chars)}\n",
    "stoi['.'] = 0\n",
    "itos = {i:s for s,i in stoi.items()}\n",
    "\n",
    "for w in words:\n",
    "    chs = ['.'] + list(w) + ['.']\n",
    "    for ch1, ch2, ch3 in zip(chs, chs[1:], chs[2:]):\n",
    "        ix1 = stoi[ch1]\n",
    "        ix2 = stoi[ch2]\n",
    "        ix3 = stoi[ch3]\n",
    "        N[ix1, ix2, ix3] +=1"
   ]
  },
  {
   "cell_type": "code",
   "execution_count": 6,
   "id": "ed0389fd",
   "metadata": {},
   "outputs": [
    {
     "data": {
      "text/plain": [
       "tensor([  0, 207, 190,  31, 366,  55,  21,  17,  91, 154,  27,  75, 632, 384,\n",
       "        623,  10,  17,   9, 482, 194,  72, 152, 243,   6,  27, 173, 152],\n",
       "       dtype=torch.int32)"
      ]
     },
     "execution_count": 6,
     "metadata": {},
     "output_type": "execute_result"
    }
   ],
   "source": [
    "N[0][1]"
   ]
  },
  {
   "cell_type": "code",
   "execution_count": 7,
   "id": "8981bc5d",
   "metadata": {},
   "outputs": [
    {
     "data": {
      "text/plain": [
       "(torch.Size([27]), 18, 'r')"
      ]
     },
     "execution_count": 7,
     "metadata": {},
     "output_type": "execute_result"
    }
   ],
   "source": [
    "p = N[0][1].float()    \n",
    "p = p / p.sum()\n",
    "\n",
    "g = torch.Generator().manual_seed(2147483647)\n",
    "ix = torch.multinomial(p, num_samples=1, replacement=True, generator=g).item()\n",
    "p.shape, ix, itos[ix]"
   ]
  },
  {
   "cell_type": "code",
   "execution_count": 8,
   "id": "63e3d8ce",
   "metadata": {},
   "outputs": [
    {
     "name": "stdout",
     "output_type": "stream",
     "text": [
      "quia.\n",
      "yu.\n",
      "quinslyntien.\n",
      "nolliahi.\n",
      "ha.\n"
     ]
    }
   ],
   "source": [
    "P = (N+1).float() \n",
    "P /= P.sum(2, keepdim=True) \n",
    "\n",
    "g = torch.Generator().manual_seed(2147483647)\n",
    "\n",
    "for i in range(5):\n",
    "    out = []\n",
    "    ix, jx = 0, 0\n",
    "    while True:\n",
    "        p = P[ix][jx]\n",
    "        next_letter = torch.multinomial(p, num_samples=1, replacement=True, generator=g).item()\n",
    "        ix = jx\n",
    "        jx = next_letter\n",
    "        out.append(itos[next_letter])\n",
    "        if next_letter == 0:\n",
    "            break\n",
    "    print(''.join(out))"
   ]
  },
  {
   "cell_type": "code",
   "execution_count": 9,
   "id": "cba58a47",
   "metadata": {
    "scrolled": false
   },
   "outputs": [
    {
     "name": "stdout",
     "output_type": "stream",
     "text": [
      "\n",
      "log_likelihood = -410414.9688\n",
      "negative log_likelihood = 410414.9688\n",
      "\n",
      "average negative log_likelihood = 2.0927\n",
      "CPU times: user 1.51 s, sys: 19.2 ms, total: 1.53 s\n",
      "Wall time: 1.56 s\n"
     ]
    }
   ],
   "source": [
    "%%time\n",
    "log_likelihood = 0.0\n",
    "n = 0\n",
    "for w in words:\n",
    "    chs = ['.'] + list(w) + ['.']\n",
    "    for ch1, ch2, ch3 in zip(chs, chs[1:], chs[2:]):\n",
    "        ix1 = stoi[ch1]\n",
    "        ix2 = stoi[ch2]\n",
    "        ix3 = stoi[ch3]\n",
    "        prob = P[ix1, ix2, ix3]\n",
    "        logprob = torch.log(prob)\n",
    "        log_likelihood += logprob\n",
    "        n += 1\n",
    "        \n",
    "print(f'\\nlog_likelihood = {log_likelihood:.4f}')\n",
    "nll = -log_likelihood\n",
    "print(f'negative log_likelihood = {nll:.4f}\\n')\n",
    "avg_nll = nll/n\n",
    "print(f'average negative log_likelihood = {avg_nll:.4f}')"
   ]
  },
  {
   "cell_type": "markdown",
   "id": "ca260350",
   "metadata": {},
   "source": [
    "-----\n",
    "<a id='1b'></a>\n",
    "## b. Neural Network Approach"
   ]
  },
  {
   "cell_type": "code",
   "execution_count": 10,
   "id": "a9b358a1",
   "metadata": {},
   "outputs": [],
   "source": [
    "def create_trigrams(words_list:list):\n",
    "    xs, ys = [], []\n",
    "\n",
    "    for w in words_list:\n",
    "        chs = ['.'] + list(w) + ['.']\n",
    "        for ch1, ch2, ch3 in zip(chs, chs[1:], chs[2:]):\n",
    "            ix1 = stoi[ch1]\n",
    "            ix2 = stoi[ch2]\n",
    "            ix3 = stoi[ch3]\n",
    "            #print(ch1, ch2, ch3)\n",
    "            xs.append([ix1, ix2])\n",
    "            ys.append(ix3)\n",
    "\n",
    "    xs = torch.tensor(xs) \n",
    "    ys = torch.tensor(ys)\n",
    "    \n",
    "    return xs, ys"
   ]
  },
  {
   "cell_type": "code",
   "execution_count": 11,
   "id": "b115a588",
   "metadata": {},
   "outputs": [],
   "source": [
    "# Create dataset and initialize the neural net\n",
    "xnn, ynn = create_trigrams(words)\n",
    "num = ynn.nelement()\n",
    "g = torch.Generator().manual_seed(2147483647)\n",
    "W_nn = torch.randn((27*2, 27), generator=g, requires_grad=True)"
   ]
  },
  {
   "cell_type": "code",
   "execution_count": 12,
   "id": "3c3980d5",
   "metadata": {},
   "outputs": [
    {
     "data": {
      "text/plain": [
       "True"
      ]
     },
     "execution_count": 12,
     "metadata": {},
     "output_type": "execute_result"
    }
   ],
   "source": [
    "num == ynn.shape[0]"
   ]
  },
  {
   "cell_type": "code",
   "execution_count": 13,
   "id": "bca9a907",
   "metadata": {
    "scrolled": true
   },
   "outputs": [
    {
     "name": "stdout",
     "output_type": "stream",
     "text": [
      "2.245729923248291\n",
      "2.24568247795105\n",
      "2.245635747909546\n",
      "2.2455894947052\n",
      "\n",
      "average negative log_likelihood = 2.2456\n",
      "\n",
      "CPU times: user 48.2 s, sys: 7.36 s, total: 55.6 s\n",
      "Wall time: 25.3 s\n"
     ]
    }
   ],
   "source": [
    "%%time\n",
    "n_iter_nn, lr_nn, C_nn = 250, 50, 0.0\n",
    "losses_nn = []\n",
    "# gradient descent\n",
    "for k in range(n_iter_nn):\n",
    "\n",
    "    # forward pass\n",
    "    xenc_nn = F.one_hot(xnn, num_classes=27).float()            # input to the network: one-hot encoding\n",
    "    logits_nn = xenc_nn.view(-1, 27*2) @ W_nn                   # predict log-counts\n",
    "    counts_nn = logits_nn.exp()                                 # counts, equivalent to N\n",
    "    probs_nn = counts_nn / counts_nn.sum(1, keepdim=True)       # probabilities for next character\n",
    "    loss_nn = -probs_nn[torch.arange(num), ynn].log().mean() + C_nn*(W_nn**2).mean() \n",
    "    #print(loss_nn.item())\n",
    "    losses_nn.append(loss_nn)\n",
    "    if k > (n_iter_nn - 5):\n",
    "        print(loss_nn.item())\n",
    "\n",
    "    # backward pass\n",
    "    W_nn.grad = None # set to zero the gradient\n",
    "    loss_nn.backward()\n",
    "\n",
    "    # update\n",
    "    W_nn.data += -lr_nn * W_nn.grad\n",
    "print(f'\\naverage negative log_likelihood = {loss_nn.item():.4f}\\n')"
   ]
  },
  {
   "cell_type": "markdown",
   "id": "80738fc2",
   "metadata": {},
   "source": [
    "----\n",
    "<br><br><a id='2'></a>\n",
    "# 2. Model Validation\n",
    "---"
   ]
  },
  {
   "cell_type": "code",
   "execution_count": 14,
   "id": "a44a43ad",
   "metadata": {},
   "outputs": [],
   "source": [
    "def data_split(xs, ys, train_percent:int, val_percent:int, test_percent:int):\n",
    "    '''\n",
    "    split dataset into train, validation and test sets\n",
    "    '''\n",
    "    assert train_percent + val_percent + test_percent == 100\n",
    "    \n",
    "    total = len(xs)\n",
    "    train_end, val_end = int(total * train_percent / 100), int(total * (train_percent + val_percent) / 100)\n",
    "    Xtr, Ytr = xs[:train_end],  ys[:train_end]\n",
    "    Xval, Yval = xs[train_end:val_end],  ys[train_end:val_end]\n",
    "    Xtest, Ytest = xs[val_end:],  ys[val_end:]\n",
    "    \n",
    "    assert len(Xtr) == len(Ytr)\n",
    "    assert len(Xval) == len(Yval)\n",
    "    assert len(Xtest) == len(Ytest)\n",
    "    \n",
    "    return Xtr, Ytr, Xval, Yval, Xtest, Ytest"
   ]
  },
  {
   "cell_type": "code",
   "execution_count": 15,
   "id": "b12dee7a",
   "metadata": {},
   "outputs": [],
   "source": [
    "xnn2, ynn2 = create_trigrams(words)\n",
    "x_tr, y_tr, x_val, y_val, x_test, y_test = data_split(xnn2, ynn2, 80, 10, 10)\n",
    "g = torch.Generator().manual_seed(2147483647)\n",
    "W_nn2 = torch.randn((27*2, 27), generator=g, requires_grad=True)"
   ]
  },
  {
   "cell_type": "code",
   "execution_count": 16,
   "id": "10047666",
   "metadata": {},
   "outputs": [
    {
     "name": "stdout",
     "output_type": "stream",
     "text": [
      "80% training set\n",
      "10% validation set\n",
      "10% test set\n"
     ]
    }
   ],
   "source": [
    "print(f'{len(x_tr)/len(xnn2)*100:.0f}% training set')\n",
    "print(f'{len(x_val)/len(xnn2)*100:.0f}% validation set')\n",
    "print(f'{len(x_test)/len(xnn2)*100:.0f}% test set')"
   ]
  },
  {
   "cell_type": "code",
   "execution_count": 17,
   "id": "232a9908",
   "metadata": {},
   "outputs": [
    {
     "name": "stdout",
     "output_type": "stream",
     "text": [
      "2.20723819732666\n",
      "2.2071897983551025\n",
      "2.207141637802124\n",
      "2.207094192504883\n",
      "\n",
      "train_loss (final): 2.2071\n",
      "\n",
      "CPU times: user 37.7 s, sys: 6.08 s, total: 43.8 s\n",
      "Wall time: 19.6 s\n"
     ]
    },
    {
     "data": {
      "text/plain": [
       "[]"
      ]
     },
     "execution_count": 17,
     "metadata": {},
     "output_type": "execute_result"
    },
    {
     "data": {
      "image/png": "[encoded data removed]",
      "text/plain": [
       "<Figure size 432x288 with 1 Axes>"
      ]
     },
     "metadata": {
      "needs_background": "light"
     },
     "output_type": "display_data"
    }
   ],
   "source": [
    "%%time\n",
    "losses_tr = []\n",
    "n_iter_tr, lr_tr, C_tr = 250, 50, 0.0\n",
    "\n",
    "# gradient descent\n",
    "for k in range(n_iter_tr):\n",
    "\n",
    "    # forward pass\n",
    "    xenc_tr = F.one_hot(x_tr, num_classes=27).float()            \n",
    "    logits_tr = xenc_tr.view(-1, 27*2) @ W_nn2                 \n",
    "    counts_tr = logits_tr.exp()                                 \n",
    "    probs_tr = counts_tr / counts_tr.sum(1, keepdim=True)  + C_tr*(W_nn2**2).mean()    \n",
    "    loss_tr = -probs_tr[torch.arange(y_tr.shape[0]), y_tr].log().mean() \n",
    "    #print(loss_tr.item())\n",
    "    losses_tr.append(loss_tr)\n",
    "    if k > (n_iter_tr - 5):\n",
    "        print(loss_tr.item())\n",
    "\n",
    "    # backward pass\n",
    "    W_nn2.grad = None # set to zero the gradient\n",
    "    loss_tr.backward()\n",
    "\n",
    "    # update\n",
    "    W_nn2.data += -lr_tr * W_nn2.grad\n",
    "    \n",
    "#print(f'\\naverage negative log_likelihood = {loss_tr.item():.4f}\\n')\n",
    "\n",
    "print(f\"\\ntrain_loss (final): {losses_tr[-1]:.4f}\\n\")\n",
    "plt.plot(losses_tr)\n",
    "plt.xlabel(\"epoch\")\n",
    "plt.ylabel(\"loss\")\n",
    "plt.title(\"Loss on training data\")\n",
    "plt.grid() \n",
    "plt.plot()"
   ]
  },
  {
   "cell_type": "code",
   "execution_count": 18,
   "id": "48c5ff4a",
   "metadata": {},
   "outputs": [
    {
     "name": "stdout",
     "output_type": "stream",
     "text": [
      "validation loss: 2.4321\n"
     ]
    }
   ],
   "source": [
    "xenc_val = F.one_hot(x_val, num_classes=27).float()\n",
    "logits_val = xenc_val.view(-1, 27*2) @ W_nn2\n",
    "counts_val = logits_val.exp()\n",
    "probs_val = counts_val/ counts_val.sum(1, keepdim=True)\n",
    "\n",
    "loss_val = -probs_val[torch.arange(y_val.shape[0]), y_val].log().mean()\n",
    "print(f\"validation loss: {loss_val.item():.4f}\")"
   ]
  },
  {
   "cell_type": "code",
   "execution_count": 19,
   "id": "c8cbace5",
   "metadata": {},
   "outputs": [
    {
     "name": "stdout",
     "output_type": "stream",
     "text": [
      "test loss: 2.4324\n"
     ]
    }
   ],
   "source": [
    "xenc_test = F.one_hot(x_test, num_classes=27).float()\n",
    "logits_test = xenc_test.view(-1, 27*2) @ W_nn2\n",
    "counts_test = logits_test.exp()\n",
    "probs_test = counts_test/ counts_test.sum(1, keepdim=True)\n",
    "\n",
    "loss_test = -probs_test[torch.arange(y_test.shape[0]), y_test].log().mean()\n",
    "print(f\"test loss: {loss_test.item():.4f}\")"
   ]
  },
  {
   "cell_type": "markdown",
   "id": "4049ff24",
   "metadata": {},
   "source": [
    "---\n",
    "For the <u>trigram model</u>, the loss after training the model on the <u>**training set**</u> was **`2.2071`**. Evaluating the model on the **<u>validation</u>** and **<u>test</u>** set yielded losses of **`2.4321`** and **`2.4324`** respectively. The  test and validation losses are very similar and marginally higher than the traiing loss so that means the model is <u>not overfitting</u> (generalizes well to new unseen data: **model robustness**)."
   ]
  },
  {
   "cell_type": "markdown",
   "id": "15e7c0fa",
   "metadata": {},
   "source": [
    "----\n",
    "<br><br><a id='3'></a>\n",
    "# 3. Regularization\n",
    "---"
   ]
  },
  {
   "cell_type": "code",
   "execution_count": 20,
   "id": "bab9b2db",
   "metadata": {},
   "outputs": [],
   "source": [
    "num_tr, num_val, num_test = y_tr.nelement(), y_val.nelement(), y_test.nelement()"
   ]
  },
  {
   "cell_type": "code",
   "execution_count": 21,
   "id": "6a52577b",
   "metadata": {},
   "outputs": [
    {
     "name": "stderr",
     "output_type": "stream",
     "text": [
      "  9%|▉         | 1/11 [00:16<02:41, 16.11s/it]"
     ]
    },
    {
     "name": "stdout",
     "output_type": "stream",
     "text": [
      "For regularization parameter = 0.0000 ---> train loss: 2.2110,    validation loss: 2.4363\n"
     ]
    },
    {
     "name": "stderr",
     "output_type": "stream",
     "text": [
      "\r",
      " 18%|█▊        | 2/11 [00:34<02:30, 16.78s/it]"
     ]
    },
    {
     "name": "stdout",
     "output_type": "stream",
     "text": [
      "For regularization parameter = 0.0010 ---> train loss: 2.2108,    validation loss: 2.4331\n"
     ]
    },
    {
     "name": "stderr",
     "output_type": "stream",
     "text": [
      "\r",
      " 27%|██▋       | 3/11 [00:53<02:18, 17.34s/it]"
     ]
    },
    {
     "name": "stdout",
     "output_type": "stream",
     "text": [
      "For regularization parameter = 0.0100 ---> train loss: 2.2212,    validation loss: 2.4338\n"
     ]
    },
    {
     "name": "stderr",
     "output_type": "stream",
     "text": [
      "\r",
      " 36%|███▋      | 4/11 [01:14<02:09, 18.53s/it]"
     ]
    },
    {
     "name": "stdout",
     "output_type": "stream",
     "text": [
      "For regularization parameter = 0.0200 ---> train loss: 2.2312,    validation loss: 2.4321\n"
     ]
    },
    {
     "name": "stderr",
     "output_type": "stream",
     "text": [
      "\r",
      " 45%|████▌     | 5/11 [01:30<01:46, 17.70s/it]"
     ]
    },
    {
     "name": "stdout",
     "output_type": "stream",
     "text": [
      "For regularization parameter = 0.0500 ---> train loss: 2.2539,    validation loss: 2.4331\n"
     ]
    },
    {
     "name": "stderr",
     "output_type": "stream",
     "text": [
      "\r",
      " 55%|█████▍    | 6/11 [01:45<01:24, 16.88s/it]"
     ]
    },
    {
     "name": "stdout",
     "output_type": "stream",
     "text": [
      "For regularization parameter = 0.0750 ---> train loss: 2.2698,    validation loss: 2.4351\n"
     ]
    },
    {
     "name": "stderr",
     "output_type": "stream",
     "text": [
      "\r",
      " 64%|██████▎   | 7/11 [02:04<01:10, 17.53s/it]"
     ]
    },
    {
     "name": "stdout",
     "output_type": "stream",
     "text": [
      "For regularization parameter = 0.1000 ---> train loss: 2.2833,    validation loss: 2.4390\n"
     ]
    },
    {
     "name": "stderr",
     "output_type": "stream",
     "text": [
      "\r",
      " 73%|███████▎  | 8/11 [02:19<00:50, 16.99s/it]"
     ]
    },
    {
     "name": "stdout",
     "output_type": "stream",
     "text": [
      "For regularization parameter = 0.2500 ---> train loss: 2.3468,    validation loss: 2.4605\n"
     ]
    },
    {
     "name": "stderr",
     "output_type": "stream",
     "text": [
      "\r",
      " 82%|████████▏ | 9/11 [02:34<00:32, 16.26s/it]"
     ]
    },
    {
     "name": "stdout",
     "output_type": "stream",
     "text": [
      "For regularization parameter = 0.3000 ---> train loss: 2.3635,    validation loss: 2.4672\n"
     ]
    },
    {
     "name": "stderr",
     "output_type": "stream",
     "text": [
      "\r",
      " 91%|█████████ | 10/11 [02:51<00:16, 16.50s/it]"
     ]
    },
    {
     "name": "stdout",
     "output_type": "stream",
     "text": [
      "For regularization parameter = 0.4000 ---> train loss: 2.3929,    validation loss: 2.4798\n"
     ]
    },
    {
     "name": "stderr",
     "output_type": "stream",
     "text": [
      "100%|██████████| 11/11 [03:06<00:00, 16.91s/it]"
     ]
    },
    {
     "name": "stdout",
     "output_type": "stream",
     "text": [
      "For regularization parameter = 0.5000 ---> train loss: 2.4185,    validation loss: 2.4913\n"
     ]
    },
    {
     "name": "stderr",
     "output_type": "stream",
     "text": [
      "\n"
     ]
    }
   ],
   "source": [
    "reg_param_list = [0, 0.001, 0.01, 0.02, 0.05, 0.075, 0.1, 0.25, 0.3, 0.4, 0.5]\n",
    "#reg_param_list = np.geomspace(0.001, 1, 12)\n",
    "\n",
    "loss_dict = {} # <reg_strength: [final train loss, final val loss]>\n",
    "n_iter = 200\n",
    "lr = 50\n",
    "\n",
    "for C in tqdm(reg_param_list):\n",
    "    # Initialize model & losses\n",
    "    W_reg = torch.randn((27*2, 27), generator=g, requires_grad=True)\n",
    "    #tr_losses, val_losses= [], []\n",
    "    \n",
    "    # gradient descent\n",
    "    for k in range(n_iter):\n",
    "\n",
    "        # forward pass\n",
    "        xenc = F.one_hot(x_tr, num_classes=27).float()       \n",
    "        logits = xenc.view(-1, 27*2) @ W_reg                 \n",
    "        counts = logits.exp()                             \n",
    "        probs = counts / counts.sum(1, keepdim=True)     \n",
    "        tr_loss = -probs[torch.arange(num_tr), y_tr].log().mean() + C*(W_reg**2).mean() \n",
    "        #print(loss.item())\n",
    "        #tr_losses.append(tr_loss)\n",
    "\n",
    "        # Zero grad & backward pass\n",
    "        W_reg.grad = None \n",
    "        tr_loss.backward()\n",
    "\n",
    "        # update\n",
    "        W_reg.data += -lr * W_reg.grad     \n",
    "\n",
    "\n",
    "    xenc_val = F.one_hot(x_val, num_classes=27).float()      \n",
    "    logits = xenc_val.view(-1, 27*2) @ W_reg                   \n",
    "    counts = logits.exp()                             \n",
    "    probs = counts / counts.sum(1, keepdim=True)     \n",
    "    val_loss = -probs[torch.arange(num_val), y_val].log().mean()\n",
    "\n",
    "       \n",
    "    print(f'For regularization parameter = {C:.4f} ---> train loss: {tr_loss.item():.4f},\\\n",
    "    validation loss: {val_loss.item():.4f}')\n",
    "    \n",
    "    _tr_loss = np.round(tr_loss.item(), decimals=4)\n",
    "    _val_loss = np.round(val_loss.item(), decimals=4)\n",
    "    _C = np.round(C, decimals=4)\n",
    "    loss_dict[_C] = [_tr_loss, _val_loss]"
   ]
  },
  {
   "cell_type": "code",
   "execution_count": 22,
   "id": "b5785dd5",
   "metadata": {},
   "outputs": [
    {
     "data": {
      "text/plain": [
       "{0: [2.211, 2.4363],\n",
       " 0.001: [2.2108, 2.4331],\n",
       " 0.01: [2.2212, 2.4338],\n",
       " 0.02: [2.2312, 2.4321],\n",
       " 0.05: [2.2539, 2.4331],\n",
       " 0.075: [2.2698, 2.4351],\n",
       " 0.1: [2.2833, 2.439],\n",
       " 0.25: [2.3468, 2.4605],\n",
       " 0.3: [2.3635, 2.4672],\n",
       " 0.4: [2.3929, 2.4798],\n",
       " 0.5: [2.4185, 2.4913]}"
      ]
     },
     "execution_count": 22,
     "metadata": {},
     "output_type": "execute_result"
    }
   ],
   "source": [
    "loss_dict"
   ]
  },
  {
   "cell_type": "code",
   "execution_count": 23,
   "id": "273f1647",
   "metadata": {
    "scrolled": true
   },
   "outputs": [
    {
     "data": {
      "text/plain": [
       "[]"
      ]
     },
     "execution_count": 23,
     "metadata": {},
     "output_type": "execute_result"
    },
    {
     "data": {
      "image/png": "[encoded data removed]",
      "text/plain": [
       "<Figure size 432x288 with 1 Axes>"
      ]
     },
     "metadata": {
      "needs_background": "light"
     },
     "output_type": "display_data"
    }
   ],
   "source": [
    "plt.title(f\"Effect of Regularization/Smoothing on Trigram Model\")\n",
    "plt.plot(list(loss_dict.keys()), [train_loss for train_loss, _ in loss_dict.values()], \"o--\", label=\"train\")\n",
    "plt.plot(list(loss_dict.keys()), [val_loss for _, val_loss in loss_dict.values()], \"o--\", label=\"val\")\n",
    "plt.xlabel(\"Regularization Strength, C\")\n",
    "plt.ylabel(\"Loss\")\n",
    "plt.grid()\n",
    "plt.legend()\n",
    "plt.plot()\n",
    "#plt.show()"
   ]
  },
  {
   "cell_type": "markdown",
   "id": "24260e78",
   "metadata": {},
   "source": [
    "Increasing the **regularization parameter `C`** increases both the validation and training losses, but <u>the training losses grow faster than the validation losses.</u>"
   ]
  },
  {
   "cell_type": "markdown",
   "id": "27ae7396",
   "metadata": {},
   "source": [
    "----\n",
    "<br><br><a id='4'></a>\n",
    "# 4. Indexing into Rows of W (Discard One-Hot Encoding)\n",
    "---"
   ]
  },
  {
   "cell_type": "markdown",
   "id": "55741787",
   "metadata": {},
   "source": [
    "Utilising the inputs **`xnn`** and weight matrix **`W_nn`** from problem 1b (neural network approach for trigram LM). Let's compare the results for one-hot encoding **`xnn`**, (**`xenc_nn`**) and indexing into rows of **`W_nn`**.<br><br>\n"
   ]
  },
  {
   "cell_type": "code",
   "execution_count": 24,
   "id": "e84e0a27",
   "metadata": {},
   "outputs": [
    {
     "name": "stdout",
     "output_type": "stream",
     "text": [
      "validation loss via indexing into rows of W: 2.2455\n"
     ]
    }
   ],
   "source": [
    "logits_idx = W_nn[xnn[:, 0]] + W_nn[xnn[:, 1] + 27]\n",
    "counts_idx = logits_idx.exp()\n",
    "probs_idx = counts_idx / counts_idx.sum(1, keepdim=True)\n",
    "loss_idx = -1 * probs_idx[torch.arange(ynn.shape[0]), ynn].log().mean()\n",
    "#loss_idx\n",
    "\n",
    "print(f\"validation loss via indexing into rows of W: {loss_idx.item():.4f}\")"
   ]
  },
  {
   "cell_type": "code",
   "execution_count": 25,
   "id": "19071481",
   "metadata": {},
   "outputs": [
    {
     "name": "stdout",
     "output_type": "stream",
     "text": [
      "validation loss via one-hot encoding: 2.2455\n"
     ]
    }
   ],
   "source": [
    "logits_ohe = xenc_nn.view(-1, 27*2) @ W_nn\n",
    "counts_ohe = logits_ohe.exp()\n",
    "probs_ohe = counts_ohe / counts_ohe.sum(1, keepdim=True)\n",
    "loss_ohe = -1 * probs_ohe[torch.arange(ynn.shape[0]), ynn].log().mean()\n",
    "#loss_ohe\n",
    "\n",
    "print(f\"validation loss via one-hot encoding: {loss_ohe.item():.4f}\")"
   ]
  },
  {
   "cell_type": "markdown",
   "id": "d5071830",
   "metadata": {},
   "source": [
    "<br>As we can see from the cells above, we get the **same results** using either one-hot encoding or indexing into rows of W."
   ]
  },
  {
   "cell_type": "markdown",
   "id": "1c2b25f2",
   "metadata": {},
   "source": [
    "----\n",
    "<br><br><a id='5'></a>\n",
    "# 5. `F.cross_entropy`\n",
    "---"
   ]
  },
  {
   "cell_type": "code",
   "execution_count": 26,
   "id": "990ebd5d",
   "metadata": {},
   "outputs": [
    {
     "name": "stdout",
     "output_type": "stream",
     "text": [
      "Average Negative Log Likelihood Loss: 2.2455\n"
     ]
    }
   ],
   "source": [
    "logits = xenc_nn.view(-1, 2*27) @ W_nn\n",
    "counts = logits.exp()\n",
    "probs = counts / counts.sum(1, keepdim=True)\n",
    "loss = -probs[torch.arange(ynn.shape[0]), ynn].log().mean()\n",
    "print(f\"Average Negative Log Likelihood Loss: {loss.item():.4f}\")"
   ]
  },
  {
   "cell_type": "code",
   "execution_count": 27,
   "id": "6a77945a",
   "metadata": {
    "scrolled": true
   },
   "outputs": [
    {
     "name": "stdout",
     "output_type": "stream",
     "text": [
      "Cross Entropy Loss: 2.2455\n"
     ]
    }
   ],
   "source": [
    "loss_ce = F.cross_entropy(logits, ynn)\n",
    "print(f\"Cross Entropy Loss: {loss_ce.item():.4f}\")"
   ]
  },
  {
   "cell_type": "markdown",
   "id": "0b309f6d",
   "metadata": {},
   "source": [
    "We get the same results using both methods. However, `F.cross_entropy` is preferable because it combines the softmax step and loss function step together at once. Basically, `F.cross_entropy` incorporates transforming the neural net outputs to probabilities with calculating the loss in one step (**`logits`** -> **`losses`**)\n",
    "\n",
    "\n",
    "- <u>NN outputs to probabilities</u>: **`logits`** -> [exp(x)] -> **`counts`** -> [normalize(x)] -> **`probs`**\n",
    "- <u>Probabilities to losses</u>: **`probs`** -> [Average negative log likelihood(x)] -> **`losses`**"
   ]
  },
  {
   "cell_type": "markdown",
   "id": "07dd09f4",
   "metadata": {},
   "source": [
    "----\n",
    "<br><br><a id='6'></a>\n",
    "# 6. meta-exercise: PyTorch Base Class for all Neural Network Modules\n",
    "---"
   ]
  },
  {
   "cell_type": "markdown",
   "id": "0c2b6351",
   "metadata": {},
   "source": [
    "Implementation steps of class:\n",
    "- Initialize\n",
    "    * Apply a linear transformation to incoming data: `y = xA.T + b`, using `torch.nn.Linear`\n",
    "    * Initialize weights with normal distribution (mean of 0 and STD of 1)\n",
    "- Forward function\n",
    "    * No activation function \n",
    "<br><br>"
   ]
  },
  {
   "cell_type": "code",
   "execution_count": 44,
   "id": "e4ad688c",
   "metadata": {},
   "outputs": [],
   "source": [
    "xs, ys = [], []\n",
    "\n",
    "for w in words:\n",
    "    chs = ['.'] + list(w) + ['.']\n",
    "    for ch1, ch2, ch3 in zip(chs, chs[1:], chs[2:]):\n",
    "        ix1 = stoi[ch1]\n",
    "        ix2 = stoi[ch2]\n",
    "        ix3 = stoi[ch3]\n",
    "        #print(ch1, ch2, ch3)\n",
    "        xs.append([ix1, ix2])\n",
    "        ys.append(ix3)\n",
    "\n",
    "xs = torch.tensor(xs) \n",
    "ys = torch.tensor(ys)"
   ]
  },
  {
   "cell_type": "code",
   "execution_count": 45,
   "id": "6625f2a2",
   "metadata": {},
   "outputs": [],
   "source": [
    "class MLP(torch.nn.Module):\n",
    "    def __init__(self):\n",
    "        super().__init__()\n",
    "        self.fc1 = torch.nn.Linear(2*27, 27) # first fully connected layer of MLP\n",
    "        torch.nn.init.normal_(self.fc1.weight, mean=0, std=1)\n",
    "        #torch.nn.init.xavier_uniform(self.fc1.weight)\n",
    "\n",
    "    def forward(self, x):\n",
    "        logits = W_nn[x[:, 0]] + W_nn[x[:, 1] + 27]\n",
    "        return logits"
   ]
  },
  {
   "cell_type": "code",
   "execution_count": 46,
   "id": "e82b518e",
   "metadata": {
    "scrolled": false
   },
   "outputs": [
    {
     "name": "stdout",
     "output_type": "stream",
     "text": [
      "After 249 iterations, the loss is 2.2455\n"
     ]
    }
   ],
   "source": [
    "C = 0\n",
    "model = MLP()\n",
    "# gradient descent\n",
    "for k in range(250):\n",
    "\n",
    "    # forward pass\n",
    "    logits = model(xs)\n",
    "    loss = F.cross_entropy(logits, ys) \n",
    "    loss += C * (model.fc1.weight ** 2).mean() # added regularization term\n",
    "    \n",
    "#     if k % 10 == 0:\n",
    "#         print(f'After {k} iterations, the loss is {loss.item():.4f}')\n",
    "\n",
    "    # backward pass\n",
    "    model.fc1.zero_grad() # set to zero the gradient (reset gradients of the layer)\n",
    "    loss.backward()\n",
    "\n",
    "    # update\n",
    "    model.fc1.weight.data += -50 * model.fc1.weight.grad\n",
    "print(f\"After {k} iterations, the loss is {loss.item():.4f}\")"
   ]
  },
  {
   "cell_type": "code",
   "execution_count": 47,
   "id": "2df75316",
   "metadata": {},
   "outputs": [
    {
     "data": {
      "text/plain": [
       "(Parameter containing:\n",
       " tensor([[ 1.7855,  0.3460, -1.2854,  ...,  0.5336, -0.8839,  0.3031],\n",
       "         [ 0.1225, -1.0614,  1.0801,  ..., -0.3535, -0.5087, -1.2049],\n",
       "         [-0.0594, -0.4437,  0.3638,  ...,  0.1334,  0.1140,  0.4028],\n",
       "         ...,\n",
       "         [-1.1852,  1.0893, -1.8360,  ...,  0.0390,  1.0074,  0.5208],\n",
       "         [ 1.0159, -0.2812,  1.5159,  ..., -0.1665,  1.3235, -0.6612],\n",
       "         [ 2.1103,  0.6758, -1.7507,  ...,  0.7648,  0.6888, -0.0393]],\n",
       "        requires_grad=True),\n",
       " Parameter containing:\n",
       " tensor([-0.0118,  0.0219,  0.0048,  0.0952, -0.0755, -0.1241,  0.0293, -0.0502,\n",
       "         -0.1163,  0.0890,  0.1085, -0.1187, -0.0349,  0.0860, -0.1105, -0.0938,\n",
       "         -0.0551, -0.1208, -0.0525, -0.0991, -0.0487,  0.1044, -0.0580, -0.1296,\n",
       "          0.1280, -0.0386, -0.1206], requires_grad=True))"
      ]
     },
     "execution_count": 47,
     "metadata": {},
     "output_type": "execute_result"
    }
   ],
   "source": [
    "model.fc1.weight, model.fc1.bias"
   ]
  },
  {
   "cell_type": "code",
   "execution_count": 48,
   "id": "db5e4df4",
   "metadata": {
    "scrolled": false
   },
   "outputs": [
    {
     "name": "stdout",
     "output_type": "stream",
     "text": [
      "After 249 iterations, the loss is 2.2455\n"
     ]
    }
   ],
   "source": [
    "C = 0\n",
    "model2 = MLP()\n",
    "optimizer = torch.optim.SGD(model2.parameters(), lr = 50)\n",
    "\n",
    "\n",
    "# gradient descent\n",
    "for k in range(250):\n",
    "\n",
    "    # forward pass\n",
    "    logits = model(xs)\n",
    "    loss = F.cross_entropy(logits, ys) \n",
    "    loss += C * (model.fc1.weight.data ** 2).mean() # added regularization term\n",
    "    \n",
    "#     if k % 10 == 0:\n",
    "#         print(f'After {k} iterations, the loss is {loss.item():.4f}')\n",
    "\n",
    "    # Backward pass\n",
    "    optimizer.zero_grad()\n",
    "    loss.backward()\n",
    "\n",
    "    # Update the parameters\n",
    "    optimizer.step()\n",
    "print(f\"After {k} iterations, the loss is {loss.item():.4f}\")"
   ]
  },
  {
   "cell_type": "code",
   "execution_count": 49,
   "id": "53d48aa9",
   "metadata": {},
   "outputs": [
    {
     "data": {
      "text/plain": [
       "(torch.Size([27, 54]), torch.Size([27]))"
      ]
     },
     "execution_count": 49,
     "metadata": {},
     "output_type": "execute_result"
    }
   ],
   "source": [
    "model2.fc1.weight.shape, model2.fc1.bias.shape"
   ]
  },
  {
   "cell_type": "code",
   "execution_count": 50,
   "id": "23f57325",
   "metadata": {},
   "outputs": [
    {
     "data": {
      "text/plain": [
       "(Parameter containing:\n",
       " tensor([[-1.1215, -0.0396,  0.1958,  ..., -0.2544,  0.4298, -0.4357],\n",
       "         [ 1.3369, -0.1873, -1.1479,  ..., -0.8545,  0.0814,  2.1752],\n",
       "         [ 0.1292,  1.4875,  0.2979,  ...,  0.1874,  0.9836, -0.0892],\n",
       "         ...,\n",
       "         [-0.6958,  0.1216, -1.8677,  ...,  1.2131,  0.4728, -0.7404],\n",
       "         [ 0.8460,  0.1320,  0.7196,  ..., -0.0559, -0.4908, -0.4020],\n",
       "         [-0.6621,  1.7270, -1.1435,  ...,  1.6317,  0.1695,  0.8134]],\n",
       "        requires_grad=True),\n",
       " Parameter containing:\n",
       " tensor([ 0.0715, -0.0081, -0.0726, -0.0865,  0.0413, -0.1155, -0.0556, -0.1025,\n",
       "         -0.0778,  0.0568,  0.1281, -0.0204, -0.0799,  0.0951, -0.0248,  0.0988,\n",
       "          0.1246, -0.0578, -0.0071,  0.0510,  0.0348, -0.1114,  0.0883, -0.0448,\n",
       "         -0.0798, -0.1314, -0.0539], requires_grad=True))"
      ]
     },
     "execution_count": 50,
     "metadata": {},
     "output_type": "execute_result"
    }
   ],
   "source": [
    "model2.fc1.weight, model2.fc1.bias"
   ]
  },
  {
   "cell_type": "code",
   "execution_count": 51,
   "id": "4ee1c759",
   "metadata": {},
   "outputs": [
    {
     "name": "stdout",
     "output_type": "stream",
     "text": [
      "Shape of logits: torch.Size([196113, 27])\n",
      "Shape of ynn: torch.Size([196113])\n"
     ]
    },
    {
     "data": {
      "text/plain": [
       "tensor(2.2455, grad_fn=<NllLossBackward0>)"
      ]
     },
     "execution_count": 51,
     "metadata": {},
     "output_type": "execute_result"
    }
   ],
   "source": [
    "# forward pass\n",
    "logits = model2(xnn)\n",
    "print(\"Shape of logits:\", logits.shape)\n",
    "print(\"Shape of ynn:\", ynn.shape)\n",
    "loss = F.cross_entropy(logits, ynn)\n",
    "loss"
   ]
  }
 ],
 "metadata": {
  "kernelspec": {
   "display_name": "Python 3",
   "language": "python",
   "name": "python3"
  },
  "language_info": {
   "codemirror_mode": {
    "name": "ipython",
    "version": 3
   },
   "file_extension": ".py",
   "mimetype": "text/x-python",
   "name": "python",
   "nbconvert_exporter": "python",
   "pygments_lexer": "ipython3",
   "version": "3.6.10"
  }
 },
 "nbformat": 4,
 "nbformat_minor": 5
}
