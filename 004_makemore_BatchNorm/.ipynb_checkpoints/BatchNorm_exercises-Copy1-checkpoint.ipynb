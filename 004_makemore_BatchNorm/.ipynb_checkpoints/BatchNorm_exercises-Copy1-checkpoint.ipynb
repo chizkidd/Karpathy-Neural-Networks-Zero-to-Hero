{
 "cells": [
  {
   "cell_type": "markdown",
   "id": "f9fd5d41",
   "metadata": {},
   "source": [
    "# makemore_BatchNorm\n",
    "\n",
    "----\n",
    "* Inspired by Andrej Karpathy's [\"Building makemore Part 3: Activations & Gradients, BatchNorm\n",
    "\"](https://www.youtube.com/watch?v=P6sfmUTpUmc)\n",
    "\n",
    "* Useful links \n",
    "    - [\"Kaiming init\" paper](https://arxiv.org/abs/1502.01852)\n",
    "    - [BatchNorm paper](https://arxiv.org/abs/1502.03167)\n",
    "    - Bengio et al. 2003 MLP language model paper [(pdf)](https://www.jmlr.org/papers/volume3/bengio03a/bengio03a.pdf)\n",
    "    - Good [paper](https://arxiv.org/abs/2105.07576) illustrating some of the problems with batchnorm in practice"
   ]
  },
  {
   "cell_type": "markdown",
   "id": "2db36255",
   "metadata": {},
   "source": [
    "-----\n",
    "<br><br>\n",
    "# Exercises\n",
    "----\n",
    "\n",
    "1. I did not get around to seeing what happens when you [initialize all weights and biases to zero.](#1) Try this and train the neural net. You might think either that \n",
    "* the network trains just fine or \n",
    "* the network doesn't train at all, but actually it is \n",
    "* the network trains but only partially, and achieves a pretty bad final performance. Inspect the gradients and activations to figure out what is happening and why the network is only partially training, and what part is being trained exactly.\n",
    "2. `BatchNorm`, unlike other normalization layers like `LayerNorm`/`GroupNorm` etc. has the big advantage that after training, the `batchnorm` `gamma`/`beta` can be \"folded into\" the weights of the preceding linear layers, effectively erasing the need to forward it at test time. \n",
    "    - Set up a [small 3-layer MLP with `batchnorms`](#2), \n",
    "    - train the network, \n",
    "    - then \"fold\" the `batchnorm` `gamma`/`beta` into the preceding linear layer's `W`, `b` by creating a new `W2`, `b2` and erasing the batch norm. \n",
    "    - Verify that this gives the same forward pass during inference. i.e. we see that the `batchnorm` is there just for stabilizing the training, and can be thrown out after training is done! pretty cool.\n",
    "    \n",
    "----"
   ]
  },
  {
   "cell_type": "code",
   "execution_count": 1,
   "id": "cb316a9f",
   "metadata": {},
   "outputs": [],
   "source": [
    "import torch\n",
    "import torch.nn.functional as F\n",
    "import matplotlib.pyplot as plt\n",
    "%matplotlib inline\n",
    "\n",
    "words = open('../data/names.txt', 'r').read().splitlines()\n",
    "print(words[:8])\n",
    "print(len(words))\n",
    "\n",
    "chars = sorted(list(set(''.join(words))))\n",
    "stoi = {s:i+1 for i,s in enumerate(chars)}\n",
    "stoi['.'] = 0\n",
    "itos = {i:s for s,i in stoi.items()}\n",
    "vocab_size = len(itos)\n",
    "print(itos)\n",
    "print(vocab_size)\n",
    "\n",
    "block_size = 3 \n",
    "\n",
    "def build_dataset(words):\n",
    "    X, Y = [], []\n",
    "\n",
    "    for w in words:\n",
    "        context = [0] * block_size\n",
    "        for ch in w + '.':\n",
    "            ix = stoi[ch]\n",
    "            X.append(context)\n",
    "            Y.append(ix)\n",
    "            context = context[1:] + [ix] \n",
    "\n",
    "    X = torch.tensor(X)\n",
    "    Y = torch.tensor(Y)\n",
    "    print(X.shape, Y.shape)\n",
    "    return X, Y\n",
    "\n",
    "import random\n",
    "random.seed(42)\n",
    "random.shuffle(words)\n",
    "n1 = int(0.8*len(words))\n",
    "n2 = int(0.9*len(words))\n",
    "\n",
    "Xtr,  Ytr  = build_dataset(words[:n1])     # 80%\n",
    "Xdev, Ydev = build_dataset(words[n1:n2])   # 10%\n",
    "Xte,  Yte  = build_dataset(words[n2:])     # 10%"
   ]
  },
  {
   "cell_type": "markdown",
   "id": "6b1b50f7",
   "metadata": {},
   "source": [
    "-----\n",
    "<a id=\"2\"></a>\n",
    "# 2.  MLP3 (3-Layer MLP)\n",
    "----"
   ]
  },
  {
   "cell_type": "code",
   "execution_count": 5,
   "id": "a9afece2",
   "metadata": {},
   "outputs": [],
   "source": [
    "gain = 1\n",
    "last_layer_scale_factor = 0.1\n",
    "\n",
    "batch_norm = True\n",
    "#fan_in_norm = False"
   ]
  },
  {
   "cell_type": "code",
   "execution_count": 6,
   "id": "0fc92438",
   "metadata": {},
   "outputs": [],
   "source": [
    "# Let's train a deeper network\n",
    "# The classes we create here are the same API as nn.Module in PyTorch\n",
    "\n",
    "class Linear:\n",
    "\n",
    "    def __init__(self, fan_in, fan_out, bias=True):\n",
    "        if batch_norm:\n",
    "            self.weight = torch.randn((fan_in, fan_out), generator=g)\n",
    "        if not batch_norm:\n",
    "            self.weight = torch.randn((fan_in, fan_out), generator=g) / fan_in**0.5\n",
    "        self.bias = torch.zeros(fan_out) if bias else None\n",
    "\n",
    "    def __call__(self, x):\n",
    "        self.out = x @ self.weight\n",
    "        if self.bias is not None:\n",
    "            self.out += self.bias\n",
    "        return self.out\n",
    "\n",
    "    def parameters(self):\n",
    "        return [self.weight] + ([] if self.bias is None else [self.bias])\n",
    "\n",
    "\n",
    "class BatchNorm1d:\n",
    "\n",
    "    def __init__(self, dim, eps=1e-5, momentum=0.1):\n",
    "        self.eps = eps\n",
    "        self.momentum = momentum\n",
    "        self.training = True\n",
    "        \n",
    "        # parameters (trained with backprop)\n",
    "        self.gamma = torch.ones(dim)\n",
    "        self.beta = torch.zeros(dim)\n",
    "        \n",
    "        # buffers (trained with a running 'momentum update')\n",
    "        self.running_mean = torch.zeros(dim)\n",
    "        self.running_var = torch.ones(dim)\n",
    "\n",
    "    def __call__(self, x):\n",
    "        # calculate the forward pass\n",
    "        if self.training:\n",
    "            xmean = x.mean(0, keepdim=True) # batch mean\n",
    "            xvar = x.var(0, keepdim=True) # batch variance\n",
    "        else:\n",
    "            xmean = self.running_mean\n",
    "            xvar = self.running_var\n",
    "        xhat = (x - xmean) / torch.sqrt(xvar + self.eps) # normalize to unit variance\n",
    "        self.out = self.gamma * xhat + self.beta\n",
    "        \n",
    "        # update the buffers in training\n",
    "        if self.training:\n",
    "            with torch.no_grad():\n",
    "                self.running_mean = (1 - self.momentum) * self.running_mean + self.momentum * xmean\n",
    "                self.running_var = (1 - self.momentum) * self.running_var + self.momentum * xvar\n",
    "        return self.out\n",
    "\n",
    "    def parameters(self):\n",
    "        return [self.gamma, self.beta]\n",
    "\n",
    "class Tanh:\n",
    "    def __call__(self, x):\n",
    "        self.out = torch.tanh(x)\n",
    "        return self.out\n",
    "    \n",
    "    def parameters(self):\n",
    "        return []"
   ]
  },
  {
   "cell_type": "code",
   "execution_count": 7,
   "id": "9206e737",
   "metadata": {},
   "outputs": [
    {
     "name": "stdout",
     "output_type": "stream",
     "text": [
      "16424\n"
     ]
    }
   ],
   "source": [
    "n_embd = 10 # the dimensionality of the character embedding vectors\n",
    "n_hidden = 100 # the number of neurons in the hidden layer of the MLP\n",
    "g = torch.Generator().manual_seed(2147483647) # for reproducibility\n",
    "\n",
    "C = torch.randn((vocab_size, n_embd),            generator=g)\n",
    "\n",
    "if batch_norm:\n",
    "    layers = [\n",
    "      Linear(n_embd * block_size, n_hidden, bias=False), BatchNorm1d(n_hidden), Tanh(),\n",
    "      Linear(           n_hidden, n_hidden, bias=False), BatchNorm1d(n_hidden), Tanh(),\n",
    "      Linear(           n_hidden, vocab_size, bias=False), BatchNorm1d(vocab_size),\n",
    "    ]\n",
    "if not batch_norm:\n",
    "    layers = [\n",
    "      Linear(n_embd * block_size, n_hidden), Tanh(),\n",
    "      Linear(           n_hidden, n_hidden), Tanh(),\n",
    "      Linear(           n_hidden, n_hidden), Tanh(),\n",
    "      Linear(           n_hidden, n_hidden), Tanh(),\n",
    "      Linear(           n_hidden, n_hidden), Tanh(),\n",
    "      Linear(           n_hidden, vocab_size),\n",
    "    ]\n",
    "\n",
    "with torch.no_grad():\n",
    "    # last layer: make less confident\n",
    "    if batch_norm:\n",
    "        layers[-1].gamma *= last_layer_scale_factor\n",
    "    if not batch_norm:\n",
    "        layers[-1].weight *= last_layer_scale_factor\n",
    "        \n",
    "    # all other layers: apply gain\n",
    "    for layer in layers[:-1]:\n",
    "        if isinstance(layer, Linear):\n",
    "            layer.weight *= gain   # default value: 5/3\n",
    "\n",
    "parameters = [C] + [p for layer in layers for p in layer.parameters()]\n",
    "print(sum(p.nelement() for p in parameters)) # number of parameters in total\n",
    "for p in parameters:\n",
    "    p.requires_grad = True\n",
    "    "
   ]
  },
  {
   "cell_type": "code",
   "execution_count": 8,
   "id": "1de7f123",
   "metadata": {},
   "outputs": [],
   "source": [
    "# same optimization as last time\n",
    "\n",
    "\n",
    "def train_model_no_lr_decay(Xtr, Ytr, C, layers, parameters, \n",
    "                max_steps = 200000, batch_size = 32, learn_rate=0.1):\n",
    "    lossi = []\n",
    "    ud = []    # update_to_date_ratio\n",
    "\n",
    "    for i in range(max_steps):\n",
    "\n",
    "        # minibatch construct\n",
    "        ix = torch.randint(0, Xtr.shape[0], (batch_size,), generator=g)\n",
    "        Xb, Yb = Xtr[ix], Ytr[ix] # batch X,Y\n",
    "\n",
    "        # forward pass\n",
    "        emb = C[Xb] # embed the characters into vectors\n",
    "        x = emb.view(emb.shape[0], -1) # concatenate the vectors\n",
    "        for layer in layers:\n",
    "            x = layer(x)\n",
    "        loss = F.cross_entropy(x, Yb) # loss function\n",
    "\n",
    "        # backward pass\n",
    "        for layer in layers:\n",
    "            layer.out.retain_grad() # AFTER_DEBUG: would take out retain_graph\n",
    "        for p in parameters:\n",
    "            p.grad = None\n",
    "        loss.backward()\n",
    "\n",
    "        # update\n",
    "        lr = learn_rate #learn_rate if i < (0.75 * max_steps) else 0.1 * learn_rate  # step learning rate decay\n",
    "        for p in parameters:\n",
    "            p.data += -lr * p.grad\n",
    "\n",
    "        # track stats\n",
    "        #if i % (max_steps/20) == 0: # print every once in a while (lr = 20000)\n",
    "        if i % (max_steps/10) == 0: # (lr = 100000)\n",
    "            print(f'{i:7d}/{max_steps:7d}: {loss.item():.4f}')\n",
    "\n",
    "        lossi.append(loss.log10().item())\n",
    "\n",
    "        with torch.no_grad():\n",
    "            ud.append([((lr*p.grad).std() / p.data.std()).log10().item() for p in parameters])\n",
    "\n",
    "    print(f\"training loss: {loss.item()}\")\n",
    "    return lossi, ud, layers, parameters, x"
   ]
  },
  {
   "cell_type": "code",
   "execution_count": 10,
   "id": "706b54fa",
   "metadata": {
    "scrolled": true
   },
   "outputs": [
    {
     "name": "stdout",
     "output_type": "stream",
     "text": [
      "      0/ 100000: 3.3138\n",
      "  10000/ 100000: 2.8430\n",
      "  20000/ 100000: 2.5132\n",
      "  30000/ 100000: 2.2348\n",
      "  40000/ 100000: 2.3918\n",
      "  50000/ 100000: 2.1464\n",
      "  60000/ 100000: 1.8751\n",
      "  70000/ 100000: 2.1717\n",
      "  80000/ 100000: 2.5002\n",
      "  90000/ 100000: 1.9719\n",
      "training loss: 2.3254995346069336\n"
     ]
    }
   ],
   "source": [
    "MLP3_no_lr_decay_vars = train_model_no_lr_decay(Xtr, Ytr, C, layers, parameters, max_steps = 100000, \n",
    "            batch_size = 32, learn_rate=0.1)"
   ]
  },
  {
   "cell_type": "code",
   "execution_count": 11,
   "id": "31976927",
   "metadata": {
    "scrolled": true
   },
   "outputs": [
    {
     "data": {
      "text/plain": [
       "tuple"
      ]
     },
     "execution_count": 11,
     "metadata": {},
     "output_type": "execute_result"
    }
   ],
   "source": [
    "type(MLP3_no_lr_decay_vars)"
   ]
  },
  {
   "cell_type": "code",
   "execution_count": 13,
   "id": "b7b57e2a",
   "metadata": {},
   "outputs": [],
   "source": [
    "def plot_update_to_data_ratio(parameters, ud):\n",
    "    plt.figure(figsize=(12, 4))\n",
    "    legends = []\n",
    "    for i,p in enumerate(parameters):\n",
    "        if p.ndim == 2:\n",
    "            plt.plot([ud[j][i] for j in range(len(ud))])\n",
    "            legends.append('param %d' % i)\n",
    "    plt.plot([0, len(ud)], [-3, -3], 'k') # these ratios should be ~1e-3, indicate on plot\n",
    "    plt.legend(legends)\n",
    "    plt.title('update-to-data ratio over time')"
   ]
  },
  {
   "cell_type": "code",
   "execution_count": 14,
   "id": "e8650497",
   "metadata": {
    "scrolled": false
   },
   "outputs": [
    {
     "data": {
      "image/png": "[encoded data removed]",
      "text/plain": [
       "<Figure size 864x288 with 1 Axes>"
      ]
     },
     "metadata": {
      "needs_background": "light"
     },
     "output_type": "display_data"
    }
   ],
   "source": [
    "# MLP3_no_lr_decay_vars = (lossi, ud, layers, parameters, x)\n",
    "no_decay_params = MLP3_no_lr_decay_vars[3]\n",
    "no_decay_updates = MLP3_no_lr_decay_vars[1]\n",
    "plot_update_to_data_ratio(no_decay_params, no_decay_updates)"
   ]
  },
  {
   "cell_type": "markdown",
   "id": "4853769c",
   "metadata": {},
   "source": [
    "**Comment:** As anticipidated, the learning rate decay was not needed. We now have a uniform update ratio dsitribution that lies on the black line which we want."
   ]
  },
  {
   "cell_type": "markdown",
   "id": "3b215626",
   "metadata": {},
   "source": [
    "---\n",
    "<a id=\"201\"></a>\n",
    "## 2.1.  Testing: With BatchNorm\n",
    "\n",
    "---"
   ]
  },
  {
   "cell_type": "code",
   "execution_count": 15,
   "id": "6a638146",
   "metadata": {},
   "outputs": [],
   "source": [
    "# MLP3_no_lr_decay_vars = (lossi, ud, layers, parameters, x)\n",
    "no_decay_layers = MLP3_no_lr_decay_vars[2]\n",
    "no_decay_logits = MLP3_no_lr_decay_vars[4]"
   ]
  },
  {
   "cell_type": "code",
   "execution_count": 16,
   "id": "6400c87f",
   "metadata": {
    "scrolled": true
   },
   "outputs": [
    {
     "name": "stdout",
     "output_type": "stream",
     "text": [
      "train loss: 2.195871591567993\n",
      "dev loss: 2.205693006515503\n"
     ]
    }
   ],
   "source": [
    "@torch.no_grad() # this decorator disables gradient tracking\n",
    "def split_loss(split):\n",
    "    x,y = {\n",
    "        \"train\": (Xtr, Ytr),\n",
    "        \"dev\": (Xdev, Ydev),\n",
    "        \"test\": (Xte, Yte),\n",
    "    }[split]\n",
    "    \n",
    "    emb = C[x] # (N, block_size, n_embd)\n",
    "    x = emb.view(emb.shape[0], -1) # concat into (N, block_size * n_embd)\n",
    "    for layer in no_decay_layers:\n",
    "        x = layer(x)\n",
    "    loss = F.cross_entropy(x, y)\n",
    "    \n",
    "    print(f\"{split} loss: {loss.item()}\")\n",
    "\n",
    "# put layers into eval mode\n",
    "for layer in no_decay_layers:\n",
    "    layer.training = False\n",
    "split_loss('train')\n",
    "split_loss('dev')"
   ]
  },
  {
   "cell_type": "markdown",
   "id": "144473a6",
   "metadata": {},
   "source": [
    "---\n",
    "<a id=\"202\"></a>\n",
    "## 2.2.  Testing: Fold BatchNorm (`gamma`, `beta`) into Preceding Linear Layer (`W`, `b`)\n",
    "---\n",
    "\n",
    "BatchNorm can be folded into the preceding linear layer because its scaling and shifting operations can be absorbed into the weights and biases of the linear layer. Specifically, the **scaling factor (`gamma`) can be multiplied with the weights**, and the **shifting factor (`beta`) can be added to the biases**, effectively eliminating the need for a separate BatchNorm layer. This is possible because the `BatchNorm` layer only performs a ***linear transformation, which can be combined with the linear transformation of the preceding layer.*** By folding BatchNorm into the linear layer, we can simplify the network architecture and reduce computational overhead during inference.\n",
    "It consists of two steps:\n",
    "\n",
    "    1- normalizing the batch by subtracting its mean and dividing it by its standard deviation.\n",
    "    2- scaling and shifting it by two learnable parameters called gamma and beta.\n",
    "\n",
    "However, at inference time, BatchNorm is **not necessary** and can be removed to speed up the network.\n",
    "\n",
    "One way to remove BatchNorm is to fold it into the preceding linear layer, which is also a `linear transformation`.\n",
    "\n",
    "This means that we can combine the `weights` and `biases` of the **linear** **layer** with the `gamma` and `beta` of the **BatchNorm layer** to get a new linear layer that has the same output as the original one.\n",
    "\n",
    "Rearrangement of the:\n",
    "\n",
    "$$\n",
    "y = \\text{Linear}(x) = Wx + b\n",
    "$$\n",
    "\n",
    "$$\n",
    "z = \\text{BatchNorm}(y) = \\gamma \\frac{y - \\mu}{\\sigma} + \\beta\n",
    "$$\n",
    "\n",
    "$$\n",
    "z = \\text{BatchNorm}(\\text{Linear}(x)) = \\gamma \\frac{Wx + b - \\mu}{\\sigma} + \\beta\n",
    "$$\n",
    "\n",
    "$$\n",
    "z = (\\frac{\\gamma}{\\sigma})Wx + (\\frac{\\gamma}{\\sigma})(b - \\mu) + \\beta\n",
    "$$\n",
    "\n",
    "$$\n",
    "z = W_2 x + b_2\n",
    "$$\n",
    "\n",
    "where $$W_2 = (\\frac{\\gamma}{\\sigma})W, \\quad b_2 = (\\frac{\\gamma}{\\sigma})(b - \\mu) + \\beta$$\n"
   ]
  }
 ],
 "metadata": {
  "kernelspec": {
   "display_name": "Python 3",
   "language": "python",
   "name": "python3"
  },
  "language_info": {
   "codemirror_mode": {
    "name": "ipython",
    "version": 3
   },
   "file_extension": ".py",
   "mimetype": "text/x-python",
   "name": "python",
   "nbconvert_exporter": "python",
   "pygments_lexer": "ipython3",
   "version": "3.6.10"
  }
 },
 "nbformat": 4,
 "nbformat_minor": 5
}
